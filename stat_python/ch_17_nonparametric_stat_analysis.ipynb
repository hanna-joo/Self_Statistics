{
  "nbformat": 4,
  "nbformat_minor": 0,
  "metadata": {
    "colab": {
      "name": "ch_17_nonparametric_stat_analysis.ipynb",
      "provenance": [],
      "include_colab_link": true
    },
    "kernelspec": {
      "name": "python3",
      "display_name": "Python 3"
    }
  },
  "cells": [
    {
      "cell_type": "markdown",
      "metadata": {
        "id": "view-in-github",
        "colab_type": "text"
      },
      "source": [
        "<a href=\"https://colab.research.google.com/github/hanna-joo/statistics/blob/master/stat_python/ch_17_nonparametric_stat_analysis.ipynb\" target=\"_parent\"><img src=\"https://colab.research.google.com/assets/colab-badge.svg\" alt=\"Open In Colab\"/></a>"
      ]
    },
    {
      "cell_type": "markdown",
      "metadata": {
        "id": "MoD7eI8I_6rY"
      },
      "source": [
        "## 분포에 대한 가정을 만족 못할 시의 문제점\n",
        "- 1종 오류의 값이 커지거나, 분석 결과 자체에 대한 신뢰성이 떨어짐\n",
        "  + [1종 오류 및 2종 오류의 차이](https://support.minitab.com/ko-kr/minitab/18/help-and-how-to/statistics/basic-statistics/supporting-topics/basics/type-i-and-type-ii-error/)\n",
        "- 모수 통계 분석 적용 못할 시, 비모수 통계 분석 활용\n"
      ]
    },
    {
      "cell_type": "markdown",
      "metadata": {
        "id": "G1VZMXj0AubJ"
      },
      "source": [
        "### (1) 언제 적용할까?\n",
        "- 분포 가정 불만족 (예: 정규분포 아님)\n",
        "- 분석기법의 전제조건 불만족 (예: 다중공선성)\n",
        "- 표본 수 불만족 (예: 설문조사 20개)\n",
        "- 데이터 척도 단순화 (예: 명목 또는 서열 척도로만 측정)\n"
      ]
    },
    {
      "cell_type": "markdown",
      "metadata": {
        "id": "hpE3X3uTBlup"
      },
      "source": [
        "### (2) 비모수 통계분석 유형\n",
        "- 비모수 통계분석의 유형은 아래와 같다. (p. 357)\n",
        "\n"
      ]
    },
    {
      "cell_type": "markdown",
      "metadata": {
        "id": "8PkF1_moHxuN"
      },
      "source": [
        "## 통계분석 실습 - 적합도 검정\n"
      ]
    },
    {
      "cell_type": "markdown",
      "metadata": {
        "id": "FUrg4UgQH5Xv"
      },
      "source": [
        "### (1) 적합도 검정: RUN 검정\n",
        "  + 가정된 확률이 정해져 있는 경우, 예) 제품의 A등급(6), B등급(3), C등급(1)\n",
        "    * [적합도 검정 예시](https://blog.naver.com/lchry/220511965537)\n",
        "    * 키워드: 측정도수 & 기대도수, RUN 검정\n",
        "\n",
        "- (교재, p. 357)\n",
        "  + 마케팅 행사가 공정하게 이루어졌는지 RUN 검정 실시\n",
        "- 가설검정\n",
        "  + 귀무가설: 멤버십 소지 고객과 비소지 고객의 방문은 무작위로 이루어짐\n",
        "  + 연구가설: 멤버십 소지 고객과 비소지 고객의 방문은 무작위로 이루어지지 않음"
      ]
    },
    {
      "cell_type": "code",
      "metadata": {
        "id": "dUHJbMavGkWg",
        "outputId": "6dcfd1e4-9222-45cd-8222-910327d0c905",
        "colab": {
          "base_uri": "https://localhost:8080/"
        }
      },
      "source": [
        "from statsmodels.sandbox.stats.runs import Runs\n",
        "import numpy as np\n",
        "\n",
        "x = [1,0,0,0,0,1,1,1,1,0,0,0,0,1,1,0,0,0,0,0]\n",
        "x = np.array(x)\n",
        "\n",
        "Runs(x).runs_test()"
      ],
      "execution_count": null,
      "outputs": [
        {
          "output_type": "execute_result",
          "data": {
            "text/plain": [
              "(-1.8277470669267506, 0.06758752074917526)"
            ]
          },
          "metadata": {
            "tags": []
          },
          "execution_count": 2
        }
      ]
    },
    {
      "cell_type": "markdown",
      "metadata": {
        "id": "hYqsCy5-G5W4"
      },
      "source": [
        "- z값의 공식은 (RUN의 개수 - RUN의 평균) + 0.5 / RUN의 표준편차 (p.358) 참조\n",
        "  + 평균 및 표준편차를 구하는 방식은 모수의 방식과 다르다 (주의)\n",
        "- -1.8은 z값을 의미하고, p 값은 0.067로 도출됨으로 유의수준 0.1 수준에서 유의하다. \n",
        "  + 즉, 연구가설을 채택하는데, 이 말의 함의는 공정하게 이루어지지 않았음을 의미"
      ]
    },
    {
      "cell_type": "markdown",
      "metadata": {
        "id": "rZ5GgOv-H8Aj"
      },
      "source": [
        "### (2) Kolmogorov-Smirnov 검정\n",
        "- 표본의 분포가 가정한 분포와 적합한지 검정\n",
        "$$D_{n} = max|F_{n}(x) - F_{0}(x)$$\n",
        "\n",
        "- $D_{n}$이 임계치보다 작으면 귀무가설 채택하며, 이는 곧 $F_{n}(x)$와 $F_{n}(x)$는 차이가 나지 않기 때문에 가정한 분포와 표본의 분포가 적합\n",
        "- 반대로 $D_{n}$이 임계치보다 크면 연구가설 채택하며, 이는 곧 $F_{n}(x)$와 $F_{n}(x)$는 차이가 있기 때문에 가정한 분포와 표본의 분포가 적합하지 않다고 해석. \n",
        "- 정규 근사의 식은 다음과 같음\n",
        "$$Z = \\sqrt{n}D$$\n",
        "\n",
        "\n",
        "- 여행 패키지 상품에 대한 만족도 조사 위해 40명의 참가 고객들을 대상으로 설문을 응답 받음\n",
        "  + 다양한 마케팅 가설검증 전, 정규분포성을 띄는지 `Kolmogorov-Smirnov` 검정 수행\n",
        "- 가설검정\n",
        "  + 귀무가설: 고객들의 고객만족도점수는 정규분포를 따른다.\n",
        "  + 연구가설: 고객들의 고객만족도점수는 정규분포를 따르지 않는다."
      ]
    },
    {
      "cell_type": "code",
      "metadata": {
        "id": "VftlizMzJxZL",
        "outputId": "c40dc846-c79c-41fc-8d7a-c8dd25b69ace",
        "colab": {
          "base_uri": "https://localhost:8080/"
        }
      },
      "source": [
        "from statsmodels.stats.diagnostic import kstest_normal\n",
        "import numpy as np \n",
        "\n",
        "x = [88, 75, 79, 84, 68, 51, 70, 75, 88, 90, \n",
        "     92, 88, 63, 72, 94, 80, 78, 98, 81, 67, \n",
        "     85, 87, 79, 81, 85, 48, 79, 86, 53, 100, \n",
        "     87, 80, 80, 32, 60, 75, 62, 82, 40, 57]\n",
        "\n",
        "x = np.array(x)\n",
        "\n",
        "kstest_normal(x, dist='norm')"
      ],
      "execution_count": null,
      "outputs": [
        {
          "output_type": "execute_result",
          "data": {
            "text/plain": [
              "(0.16508249090030575, 0.007697422359967707)"
            ]
          },
          "metadata": {
            "tags": []
          },
          "execution_count": 3
        }
      ]
    },
    {
      "cell_type": "markdown",
      "metadata": {
        "id": "uCYXaGjXKnyU"
      },
      "source": [
        "- kstest_normal(data, dist)이다. `dist`는 검정할 분포로서 norm(정규분포), exp(지수분포) 두 가지를 설정할 수 있음\n",
        "- 검정통계량 0.165, p값은 0.007\n",
        "  + 유의수준보다 작게 나와 연구가설을 따르며, 위 데이터는 정규분포를 따르지 않는다고 볼 수 있음"
      ]
    },
    {
      "cell_type": "markdown",
      "metadata": {
        "id": "jyCdYGyULJJp"
      },
      "source": [
        "## 통계분석 실습 - 동질성 검정\n",
        "- Wilcoxon 부호-순위 검정, Mann Whitney U 검정, Friedman 검정, 그리고 Kruskal-Wallis H 검정 \n"
      ]
    },
    {
      "cell_type": "markdown",
      "metadata": {
        "id": "EufEniwfLgnF"
      },
      "source": [
        "### (1) Wilcoxon 부호-순위 검정\n",
        "- 쌍체 표본 t-검정에서 표본의 수가 30개 미만일 경우에 활용한다. \n",
        "- Wilcoxon 부호-순위 검정의 절차는 교재 364 페이지를 참고한다. \n",
        "- 가설 검증\n",
        "  + 배경: 기존의 물류 알고리즘보다 개선되었다고 알려진 새로운 물류 경로 최적화 알고리즘을 도입해 상품의 배송시간을 단축하고자 한다. \n",
        "  + 귀무가설: 기존 물류 알고리즘과 신규 알고리즘간을 통한 평균 배송시간은 차이가 없다. \n",
        "  + 대립가설: 기존 물류 알고리즘과 신규 알고리즘간을 통한 평균 배송시간은 차이가 있다. \n",
        "\n",
        " "
      ]
    },
    {
      "cell_type": "code",
      "metadata": {
        "id": "CmjISGmYaNQf",
        "outputId": "0ca9109c-8452-43ec-ad53-3ab198b3a8e3",
        "colab": {
          "base_uri": "https://localhost:8080/"
        }
      },
      "source": [
        "from scipy.stats import wilcoxon\n",
        "\n",
        "x = [10, 30, 9, 21, 35, 12, 17]\n",
        "y = [8, 27, 16, 25, 30, 13, 11]\n",
        "\n",
        "wilcoxon(x, y)"
      ],
      "execution_count": null,
      "outputs": [
        {
          "output_type": "stream",
          "text": [
            "/usr/local/lib/python3.6/dist-packages/scipy/stats/morestats.py:2879: UserWarning: Sample size too small for normal approximation.\n",
            "  warnings.warn(\"Sample size too small for normal approximation.\")\n"
          ],
          "name": "stderr"
        },
        {
          "output_type": "execute_result",
          "data": {
            "text/plain": [
              "WilcoxonResult(statistic=12.0, pvalue=0.7353166906373405)"
            ]
          },
          "metadata": {
            "tags": []
          },
          "execution_count": 4
        }
      ]
    },
    {
      "cell_type": "markdown",
      "metadata": {
        "id": "HYD-eC41LgsR"
      },
      "source": [
        "- 검정 통계량이 12.0, p-value은 0.735로 출력되었는데, 이는 귀무가설을 기각하지 못하므로 신규 알고리즘을 도입할 필요가 없다. "
      ]
    },
    {
      "cell_type": "markdown",
      "metadata": {
        "id": "VbsrJPWfaugD"
      },
      "source": [
        "### (2) Mann-Whitney U 검정\n",
        "- 두 개의 독립된 집단간의 특정 값의 평균 비교\n",
        "- 이 때, 두 개의 독립된 집단이 정규분포를 따르지 않을 때 사용한다. \n",
        "- 연구 배경: V 반도체 회사는 공장 A와 공장 B 2개의 공장에서 반도체를 생산하고 있다. 이 때, 2개 공장의 생산 효율성에 차이가 있는지를 Mann-Whitney U 검정을 통해 살펴본다. \n",
        "- 가설검정\n",
        "  + 귀무가설 = 공장 A와 공장 B의 생산효율성은 동일하다\n",
        "  + 연구가설 = 공장 A와 공장 B의 생산효율성은 다르다."
      ]
    },
    {
      "cell_type": "code",
      "metadata": {
        "id": "hmPrR_eFbaAt",
        "outputId": "e7cf7189-965c-4071-8e6f-75a07924e9bd",
        "colab": {
          "base_uri": "https://localhost:8080/"
        }
      },
      "source": [
        "import pandas as pd\n",
        "from scipy.stats import mannwhitneyu\n",
        "\n",
        "x = [12, 11, 13, 14, 15]\n",
        "y = [16, 15, 17, 19, 20]\n",
        "\n",
        "print(mannwhitneyu(x, y))\n",
        "\n",
        "# 생산량 평균 순위 출력\n",
        "xy = pd.DataFrame(x+y)\n",
        "xy['생산량 순위'] = xy.rank(ascending=False)\n",
        "xy['공장이름'] = [\"A\", \"A\", \"A\", \"A\", \"A\", \"B\", \"B\", \"B\", \"B\", \"B\"]\n",
        "print(xy.groupby('공장이름').mean())"
      ],
      "execution_count": null,
      "outputs": [
        {
          "output_type": "stream",
          "text": [
            "MannwhitneyuResult(statistic=0.5, pvalue=0.007985348176890053)\n",
            "         0  생산량 순위\n",
            "공장이름              \n",
            "A     13.0     7.9\n",
            "B     17.4     3.1\n"
          ],
          "name": "stdout"
        }
      ]
    },
    {
      "cell_type": "markdown",
      "metadata": {
        "id": "c5wQIabycLgN"
      },
      "source": [
        "- 검정통계량이 `0.5` 그리고 유의확률은 0.0079이므로 귀무가설을 기각한다. \n",
        "- 즉, A와 B의 공장 생산의 효율성은 다르며, A의 효율성이 떨어지는 것을 볼 수 있다. "
      ]
    },
    {
      "cell_type": "markdown",
      "metadata": {
        "id": "YFUrke18ceVN"
      },
      "source": [
        "### (3) Kruskal-Wallis H 검정\n",
        "- 3개 이상의 독립 표본집단간의 본포가 동일한지 비교하는 검정 방법\n",
        "- 일원분산분석과 유사한 목적을 지님\n",
        "- 연구배경: Q제철기업은 철근을 생산하는데 있어 3개의 공장을 운영하고 있다. 생산량이 가장 낮은 공장을 찾아 공장 설비 등을 보강시켜 생산량을 높일 계획이다. \n",
        "- 가설검증\n",
        "  + 귀무가설: 3개의 공장의 철근 생산량은 모두 동일하다. \n",
        "  + 연구가설: 3개의 공장의 철근 생산량은 모두 동일하지는 않다. "
      ]
    },
    {
      "cell_type": "code",
      "metadata": {
        "id": "yi95XdUXdoJ6",
        "outputId": "b4db0095-fb31-4c12-abdc-0f5272ce296b",
        "colab": {
          "base_uri": "https://localhost:8080/"
        }
      },
      "source": [
        "import pandas as pd\n",
        "from scipy.stats import kruskal\n",
        "\n",
        "a = [35, 41, 45, 42, 33, 36, 47, 45, 31, 32, 40, 44]\n",
        "b = [40, 38, 44, 48, 45, 46, 42, 39, 40, 41, 38, 47]\n",
        "c = [30, 34, 38, 39, 40, 41, 38, 37, 40, 41, 39, 38]\n",
        "\n",
        "# Kruskal-Wallis H 검정 분석\n",
        "print(kruskal(a, b, c))\n",
        "\n",
        "# 생산량 평균 순위 출력\n",
        "data = pd.DataFrame(a+b+c)\n",
        "data[\"생산량순위\"] = data.rank(ascending=False)\n",
        "data[\"공장이름\"] = ''\n",
        "data[\"공장이름\"][0:12] = 1\n",
        "data[\"공장이름\"][12:24] = 2\n",
        "data[\"공장이름\"][24:36] = 3\n",
        "\n",
        "print(data.groupby(\"공장이름\").mean())"
      ],
      "execution_count": null,
      "outputs": [
        {
          "output_type": "stream",
          "text": [
            "KruskalResult(statistic=6.047476974964328, pvalue=0.04861911622342764)\n",
            "              0  생산량순위\n",
            "공장이름                  \n",
            "1     39.250000   19.0\n",
            "2     42.333333   13.0\n",
            "3     37.916667   23.5\n"
          ],
          "name": "stdout"
        },
        {
          "output_type": "stream",
          "text": [
            "/usr/local/lib/python3.6/dist-packages/ipykernel_launcher.py:15: SettingWithCopyWarning: \n",
            "A value is trying to be set on a copy of a slice from a DataFrame\n",
            "\n",
            "See the caveats in the documentation: https://pandas.pydata.org/pandas-docs/stable/user_guide/indexing.html#returning-a-view-versus-a-copy\n",
            "  from ipykernel import kernelapp as app\n",
            "/usr/local/lib/python3.6/dist-packages/pandas/core/indexing.py:670: SettingWithCopyWarning: \n",
            "A value is trying to be set on a copy of a slice from a DataFrame\n",
            "\n",
            "See the caveats in the documentation: https://pandas.pydata.org/pandas-docs/stable/user_guide/indexing.html#returning-a-view-versus-a-copy\n",
            "  iloc._setitem_with_indexer(indexer, value)\n",
            "/usr/local/lib/python3.6/dist-packages/ipykernel_launcher.py:16: SettingWithCopyWarning: \n",
            "A value is trying to be set on a copy of a slice from a DataFrame\n",
            "\n",
            "See the caveats in the documentation: https://pandas.pydata.org/pandas-docs/stable/user_guide/indexing.html#returning-a-view-versus-a-copy\n",
            "  app.launch_new_instance()\n",
            "/usr/local/lib/python3.6/dist-packages/ipykernel_launcher.py:17: SettingWithCopyWarning: \n",
            "A value is trying to be set on a copy of a slice from a DataFrame\n",
            "\n",
            "See the caveats in the documentation: https://pandas.pydata.org/pandas-docs/stable/user_guide/indexing.html#returning-a-view-versus-a-copy\n"
          ],
          "name": "stderr"
        }
      ]
    },
    {
      "cell_type": "markdown",
      "metadata": {
        "id": "IWKR4LDpe-2I"
      },
      "source": [
        "- 통계량은 `6.047476974964328`, `p-value`는 `0.04`이며, 이는 귀무가설을 기각하고, 연구가설을 채택한다. \n",
        "  + 즉, 3개의 철근 생산량을 모두 동일하지 않으며, 그 중에서도 공장 3의 평균 생산량 순위가 가장 낮음을 알 수 있다. \n"
      ]
    },
    {
      "cell_type": "markdown",
      "metadata": {
        "id": "c5PlUHi7f4Ka"
      },
      "source": [
        "### (4) Friedman 검정\n",
        "- 실험유형과 집단유형으로 구분된 여러 집단들의 서열정보를 사용하여 실험효과를 검증하는 방법\n",
        "- 실험유형에 대해 다수의 쌍체표본 집단을 할당하고 서열을 이용하여 차이를 검정한다. \n",
        "- A쇼핑 본사에서는 멤버십 VIP 고객들을 대상으로 새로운 혜택을 제공하고자 한다. \n",
        "  + 샘플증정, 포인트 추가, 무료배송, 할인쿠폰 등 4가지 혜택에 대한 5개 지역별 고객들에 대한 사전 선호도 조사를 실시하였다. \n",
        "- 가설검정\n",
        "  + 귀무가설 = 혜택별 고객의 선호도 평가에 차이는 없다. \n",
        "  + 연구가설 = 혜택별 고객의 선호도 평가에 차이는 있다. "
      ]
    },
    {
      "cell_type": "code",
      "metadata": {
        "id": "-IwO8PlggqtJ",
        "outputId": "bd09b65f-09d2-4b2b-bb4b-27b125503215",
        "colab": {
          "base_uri": "https://localhost:8080/"
        }
      },
      "source": [
        "from scipy.stats import friedmanchisquare\n",
        "\n",
        "a = [1,2,1,1,2]\n",
        "b = [3,3,3,2,1]\n",
        "c = [2,4,4,4,3]\n",
        "d = [4,1,2,3,4]\n",
        "\n",
        "friedmanchisquare(a, b, c, d)"
      ],
      "execution_count": null,
      "outputs": [
        {
          "output_type": "execute_result",
          "data": {
            "text/plain": [
              "FriedmanchisquareResult(statistic=6.359999999999999, pvalue=0.09535032301698126)"
            ]
          },
          "metadata": {
            "tags": []
          },
          "execution_count": 10
        }
      ]
    },
    {
      "cell_type": "markdown",
      "metadata": {
        "id": "J2_sZh-Eg7Sg"
      },
      "source": [
        "- 코드 실행 결과 검정통계량 6.360, p값은 0.095로 출력된다. \n",
        "  + 유의수준 0.05보다 크므로 귀무가설을 기각할 수 없다. \n",
        "  + 즉, VIP고객들에게는 신규 혜택에 대한 큰 메리트는 없기 때문에, 새로운 혜택을 고려해보는 것이 필요할 수도 있음을 의미한다. "
      ]
    },
    {
      "cell_type": "markdown",
      "metadata": {
        "id": "pZ5A8L9XhVTx"
      },
      "source": [
        "## 통계분석 실습 - 상관성 검정\n",
        "- 서열 정보를 이용한 상관성 검정에는 스피어만 서열상관분석과 Kendall 서열 상관분석을 사용할 수 있다. \n",
        "  + 피어슨, 스피어만, 정준상관분석에 대한 설명은 교재 145페이지를 참고한다. \n",
        "  + 피어슨 및 스피어만 상관분석은 7장에서 이미 다루었기 때문에, Kendall 서열상관분석만 다루도록 한다. \n"
      ]
    },
    {
      "cell_type": "markdown",
      "metadata": {
        "id": "THMu6XVIm8kW"
      },
      "source": [
        "### (1) Kendall 서열상관 계수 분석\n",
        "- 분석 배경: H 홈쇼핑에서 주력 판매 품목이었던 의류/패션 상품의 매출이 급락하여 시급한 대책마련이 필요하게 되었다. 최근 판매된 5개 의류 브랜드의 가격과 판매량을 바탕으로 Kendall의 서열상관 계수를 구한다. \n",
        "- 연구가설:\n",
        "  + 귀무가설 = H홈쇼핑의 의류브랜드 가격 서열과 판매량 서열은 연관성이 없다. \n",
        "  + 연구가설 = H홈쇼핑의 의류브랜드 가격 서열과 판매량 서열은 연관성이 있다. "
      ]
    },
    {
      "cell_type": "code",
      "metadata": {
        "id": "Ugd0yKVVkhxi",
        "outputId": "17d65522-f7fa-46a4-e894-221e5b0bd294",
        "colab": {
          "base_uri": "https://localhost:8080/"
        }
      },
      "source": [
        "from scipy.stats import kendalltau\n",
        "\n",
        "x = [5, 2, 4, 1, 3]\n",
        "y = [4, 1, 3, 2, 5]\n",
        "\n",
        "kendalltau(x, y)"
      ],
      "execution_count": null,
      "outputs": [
        {
          "output_type": "execute_result",
          "data": {
            "text/plain": [
              "KendalltauResult(correlation=0.39999999999999997, pvalue=0.48333333333333334)"
            ]
          },
          "metadata": {
            "tags": []
          },
          "execution_count": 11
        }
      ]
    },
    {
      "cell_type": "markdown",
      "metadata": {
        "id": "ucE5Z_zLksoH"
      },
      "source": [
        "- 상관계수는 0.4, P값은 0.483, 즉 귀무가설을 기각하지 못한다. 따라서, 홈쇼핑의 최근 의류 판매 브랜드의 판매 가격 서열과 판매량 서열은 서로 연관성이 없다고 해석해야 한다. \n",
        "- 즉, 판매량 저조의 문제점을 다른 곳에서 찾아야 한다는 뜻이다. "
      ]
    },
    {
      "cell_type": "markdown",
      "metadata": {
        "id": "JcsrKw6BnDEm"
      },
      "source": [
        "## Reference\n",
        "김형수. (2020). Step by Step 파이썬 비즈니스 통계분석. 서울: 프레딕스."
      ]
    }
  ]
}