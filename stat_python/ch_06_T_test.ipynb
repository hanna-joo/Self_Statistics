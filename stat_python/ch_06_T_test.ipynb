{
  "nbformat": 4,
  "nbformat_minor": 0,
  "metadata": {
    "colab": {
      "name": "ch_06_T-test.ipynb",
      "provenance": [],
      "collapsed_sections": [],
      "authorship_tag": "ABX9TyN53cqK3WIrdNPI+7gXtUpB",
      "include_colab_link": true
    },
    "kernelspec": {
      "name": "python3",
      "display_name": "Python 3"
    }
  },
  "cells": [
    {
      "cell_type": "markdown",
      "metadata": {
        "id": "view-in-github",
        "colab_type": "text"
      },
      "source": [
        "<a href=\"https://colab.research.google.com/github/hanna-joo/statistics/blob/master/stat_python/ch_06_T_test.ipynb\" target=\"_parent\"><img src=\"https://colab.research.google.com/assets/colab-badge.svg\" alt=\"Open In Colab\"/></a>"
      ]
    },
    {
      "cell_type": "markdown",
      "metadata": {
        "id": "YWrtGtaxDJSK"
      },
      "source": [
        "# 6장. t-검정\n",
        "- 두 개 이하의 집단에서 수치형 변수의 평균의 일치성 판단하는 기법"
      ]
    },
    {
      "cell_type": "markdown",
      "metadata": {
        "id": "dioCoopsxTxL"
      },
      "source": [
        "## 6.0. 준비하기"
      ]
    },
    {
      "cell_type": "code",
      "metadata": {
        "id": "NbouCpNmJ0l_",
        "outputId": "ede9a988-2a0a-4e71-b467-e157171cbe6d",
        "colab": {
          "base_uri": "https://localhost:8080/",
          "height": 51
        }
      },
      "source": [
        "# 구글 드라이브 연동\n",
        "from google.colab import drive # import drive from google colab\n",
        "\n",
        "ROOT = \"/content/drive\"     # default location for the drive\n",
        "print(ROOT)       \n",
        "          # print content of ROOT (Optional)\n",
        "drive.mount(ROOT, force_remount=True)"
      ],
      "execution_count": 1,
      "outputs": [
        {
          "output_type": "stream",
          "text": [
            "/content/drive\n",
            "Mounted at /content/drive\n"
          ],
          "name": "stdout"
        }
      ]
    },
    {
      "cell_type": "code",
      "metadata": {
        "id": "Uvgc12WdJx1x",
        "outputId": "58f80dd3-18a4-4b55-f76a-7a4084d8b36f",
        "colab": {
          "base_uri": "https://localhost:8080/",
          "height": 425
        }
      },
      "source": [
        "from os.path import join  \n",
        "\n",
        "MY_GOOGLE_DRIVE_PATH = '/content/drive/My Drive/Colab Notebooks/python_stat/python_stat_data/pythondata'\n",
        "PROJECT_PATH = join(ROOT, MY_GOOGLE_DRIVE_PATH)\n",
        "\n",
        "%cd \"{PROJECT_PATH}\"\n",
        "%ls"
      ],
      "execution_count": 2,
      "outputs": [
        {
          "output_type": "stream",
          "text": [
            "/content/drive/My Drive/Colab Notebooks/python_stat/python_stat_data/pythondata\n",
            "'실습파일_10장 분산분석.ipynb'\n",
            "'실습파일_11장 회귀분석.ipynb'\n",
            "'실습파일_12장 요인분석.ipynb'\n",
            "'실습파일_13장 분류예측분석.ipynb'\n",
            "'실습파일_14장 군집분석.ipynb'\n",
            "'실습파일_15장 포지셔닝 분석.ipynb'\n",
            "'실습파일_16장 컨조인트 분석.ipynb'\n",
            "'실습파일_17장 비모수 통계분석.ipynb'\n",
            "'실습파일_3장 파이썬 기초.ipynb'\n",
            "'실습파일_4장 데이터전처리 및 기초분석.ipynb'\n",
            "'실습파일_5장 기술통계분석.ipynb'\n",
            "'실습파일_6장 t 검정.ipynb'\n",
            "'실습파일_7장 상관관계분석.ipynb'\n",
            "'실습파일_8장 범주형 데이터 분석.ipynb'\n",
            "'실습파일_9장 신뢰성 분석.ipynb'\n",
            " Ashopping.csv\n",
            " CCA.csv\n",
            " Conjoint.csv\n",
            " Correspondence.csv\n",
            " 부록_통계표.docx\n",
            " MDS1.csv\n",
            " MDS3.csv\n",
            "'Step by Step 파이썬 비즈니스 통계분석_정오표.xlsx'\n"
          ],
          "name": "stdout"
        }
      ]
    },
    {
      "cell_type": "markdown",
      "metadata": {
        "id": "Q4wAgfcmDiTM"
      },
      "source": [
        "## 6.1. t-검정 기초\n",
        "- 평균 비교 분석 유형\n",
        "\n",
        "\n",
        "|    |t-검정|z-검정|분산분석|\n",
        "|:----:|:------:|:---:|:---:|\n",
        "|집단의 수|2개 이하|2개 이하|3개 이상|\n",
        "|모집단의 분산|모름|알고 있음|모름|\n",
        "|표본의 수|상관 없음|30개 이상|상관 없음|\n",
        "|등분산성|고려함|고려하지 않음|고려함|\n",
        "\n",
        "\n",
        "- t-검정의 종류\n",
        "  + 일표본 t-검정\n",
        "  + 독립표본 t-검정\n",
        "  + 쌍체표본 t-검정"
      ]
    },
    {
      "cell_type": "markdown",
      "metadata": {
        "id": "PCPUoOf_HSMZ"
      },
      "source": [
        "## 6.2. 일표본 t-검정\n",
        "- 개념: 단일 표본의 수치형 변수의 평균 값이 기존에 받아들여졌던 특정 값(모집단의 평균)과 실제로 일치하는지 판단하는 통계 분석 기법\n",
        "  + 예시: A 통신사 고객들의 하루 평균 통화량이 60분이라고 알려진 상황에서 실제 최근 1개월간 A 통신사 고객들의 하루 평균 통화량(분) 비교\n",
        "\n",
        "- 일표본 t-검정 값 산출방식\n",
        "  + 모분산을 아는 경우: z-검정\n",
        "    + 모집단의 표준편차를 사용하여 검정 통계량 산출\n",
        "  + 모분산을 모르는 경우: t-검정\n",
        "    + 표본의 표준편차를 사용하여 검정 통계량 산출\n",
        "    + t값 = 이론적 평균(모집단 평균)과 실제 평균(표본 평균)의 차이가  \n",
        "      허용 가능한 오차수준(표준오차)에 비해 몇 배 더 큰지 나타내는 값"
      ]
    },
    {
      "cell_type": "markdown",
      "metadata": {
        "id": "YqPC4t6gI5JS"
      },
      "source": [
        "- (예시) 작년 A 쇼핑의 VIP 고객들의 평균 구매액은 약 700만원 이었으며, 이에 A 쇼핑은 올해 VIP 그룹 고객들의 평균 구매액 목표치를 10% 성장한 770만원으로 결정한 바 있다. 올해 VIP 고객들의 평균 구매액 목표치인 770만원을 달성하였는지 판단해보자.\n",
        "  + 귀무가설(H0): A 쇼핑 VIP 고객들의 총 매출액 평균은 7,700,000원이다.\n",
        "  + 연구가설(H1): A 쇼핑 VIP 고객들의 총 매출액 평균은 7,700,000원이 아니다.\n",
        "\n",
        "  + 사용함수: stats.ttest_1samp(data, popmean)\n",
        "    + data: 표본 데이터의 분석 변수\n",
        "    + popmean: 귀무가설 상의 기대 값"
      ]
    },
    {
      "cell_type": "code",
      "metadata": {
        "id": "jNiZsX28DETc"
      },
      "source": [
        "# 모듈 및 데이터 탑재\n",
        "import pandas as pd\n",
        "import numpy as np\n",
        "from scipy import stats"
      ],
      "execution_count": 3,
      "outputs": []
    },
    {
      "cell_type": "code",
      "metadata": {
        "id": "_4GhrNFEKAYd"
      },
      "source": [
        "df = pd.read_csv('Ashopping.csv', sep=',', encoding='CP949')"
      ],
      "execution_count": 4,
      "outputs": []
    },
    {
      "cell_type": "code",
      "metadata": {
        "id": "o1fEUoGHKHT_",
        "outputId": "45e990bc-d3be-4fa2-f63f-e696d840da94",
        "colab": {
          "base_uri": "https://localhost:8080/",
          "height": 479
        }
      },
      "source": [
        "df.head()"
      ],
      "execution_count": 5,
      "outputs": [
        {
          "output_type": "execute_result",
          "data": {
            "text/html": [
              "<div>\n",
              "<style scoped>\n",
              "    .dataframe tbody tr th:only-of-type {\n",
              "        vertical-align: middle;\n",
              "    }\n",
              "\n",
              "    .dataframe tbody tr th {\n",
              "        vertical-align: top;\n",
              "    }\n",
              "\n",
              "    .dataframe thead th {\n",
              "        text-align: right;\n",
              "    }\n",
              "</style>\n",
              "<table border=\"1\" class=\"dataframe\">\n",
              "  <thead>\n",
              "    <tr style=\"text-align: right;\">\n",
              "      <th></th>\n",
              "      <th>고객ID</th>\n",
              "      <th>이탈여부</th>\n",
              "      <th>총_매출액</th>\n",
              "      <th>방문빈도</th>\n",
              "      <th>1회_평균매출액</th>\n",
              "      <th>할인권_사용 횟수</th>\n",
              "      <th>총_할인_금액</th>\n",
              "      <th>고객등급</th>\n",
              "      <th>구매유형</th>\n",
              "      <th>클레임접수여부</th>\n",
              "      <th>구매_카테고리_수</th>\n",
              "      <th>거주지역</th>\n",
              "      <th>성별</th>\n",
              "      <th>고객_나이대</th>\n",
              "      <th>거래기간</th>\n",
              "      <th>할인민감여부</th>\n",
              "      <th>멤버쉽_프로그램_가입전_만족도</th>\n",
              "      <th>멤버쉽_프로그램_가입후_만족도</th>\n",
              "      <th>Recency</th>\n",
              "      <th>Frequency</th>\n",
              "      <th>Monetary</th>\n",
              "      <th>상품_만족도</th>\n",
              "      <th>매장_만족도</th>\n",
              "      <th>서비스_만족도</th>\n",
              "      <th>상품_품질</th>\n",
              "      <th>상품_다양성</th>\n",
              "      <th>가격_적절성</th>\n",
              "      <th>상품_진열_위치</th>\n",
              "      <th>상품_설명_표시</th>\n",
              "      <th>매장_청결성</th>\n",
              "      <th>공간_편의성</th>\n",
              "      <th>시야_확보성</th>\n",
              "      <th>음향_적절성</th>\n",
              "      <th>안내_표지판_설명</th>\n",
              "      <th>친절성</th>\n",
              "      <th>신속성</th>\n",
              "      <th>책임성</th>\n",
              "      <th>정확성</th>\n",
              "      <th>전문성</th>\n",
              "    </tr>\n",
              "  </thead>\n",
              "  <tbody>\n",
              "    <tr>\n",
              "      <th>0</th>\n",
              "      <td>1</td>\n",
              "      <td>0</td>\n",
              "      <td>4007080</td>\n",
              "      <td>17</td>\n",
              "      <td>235711</td>\n",
              "      <td>1</td>\n",
              "      <td>5445</td>\n",
              "      <td>1</td>\n",
              "      <td>4</td>\n",
              "      <td>0</td>\n",
              "      <td>6</td>\n",
              "      <td>6</td>\n",
              "      <td>1</td>\n",
              "      <td>4</td>\n",
              "      <td>1079</td>\n",
              "      <td>0</td>\n",
              "      <td>5</td>\n",
              "      <td>7</td>\n",
              "      <td>7</td>\n",
              "      <td>3</td>\n",
              "      <td>4</td>\n",
              "      <td>6</td>\n",
              "      <td>5</td>\n",
              "      <td>6</td>\n",
              "      <td>7</td>\n",
              "      <td>7</td>\n",
              "      <td>6</td>\n",
              "      <td>7.0</td>\n",
              "      <td>6.0</td>\n",
              "      <td>6</td>\n",
              "      <td>7</td>\n",
              "      <td>6</td>\n",
              "      <td>6</td>\n",
              "      <td>6</td>\n",
              "      <td>6</td>\n",
              "      <td>6</td>\n",
              "      <td>6</td>\n",
              "      <td>6</td>\n",
              "      <td>6</td>\n",
              "    </tr>\n",
              "    <tr>\n",
              "      <th>1</th>\n",
              "      <td>2</td>\n",
              "      <td>1</td>\n",
              "      <td>3168400</td>\n",
              "      <td>14</td>\n",
              "      <td>226314</td>\n",
              "      <td>22</td>\n",
              "      <td>350995</td>\n",
              "      <td>2</td>\n",
              "      <td>4</td>\n",
              "      <td>0</td>\n",
              "      <td>4</td>\n",
              "      <td>4</td>\n",
              "      <td>1</td>\n",
              "      <td>1</td>\n",
              "      <td>537</td>\n",
              "      <td>0</td>\n",
              "      <td>2</td>\n",
              "      <td>3</td>\n",
              "      <td>2</td>\n",
              "      <td>3</td>\n",
              "      <td>3</td>\n",
              "      <td>2</td>\n",
              "      <td>5</td>\n",
              "      <td>4</td>\n",
              "      <td>6</td>\n",
              "      <td>7</td>\n",
              "      <td>6</td>\n",
              "      <td>6.0</td>\n",
              "      <td>NaN</td>\n",
              "      <td>7</td>\n",
              "      <td>7</td>\n",
              "      <td>6</td>\n",
              "      <td>6</td>\n",
              "      <td>6</td>\n",
              "      <td>5</td>\n",
              "      <td>3</td>\n",
              "      <td>6</td>\n",
              "      <td>6</td>\n",
              "      <td>6</td>\n",
              "    </tr>\n",
              "    <tr>\n",
              "      <th>2</th>\n",
              "      <td>3</td>\n",
              "      <td>0</td>\n",
              "      <td>2680780</td>\n",
              "      <td>18</td>\n",
              "      <td>148932</td>\n",
              "      <td>6</td>\n",
              "      <td>186045</td>\n",
              "      <td>1</td>\n",
              "      <td>4</td>\n",
              "      <td>1</td>\n",
              "      <td>6</td>\n",
              "      <td>6</td>\n",
              "      <td>1</td>\n",
              "      <td>6</td>\n",
              "      <td>1080</td>\n",
              "      <td>0</td>\n",
              "      <td>6</td>\n",
              "      <td>6</td>\n",
              "      <td>7</td>\n",
              "      <td>3</td>\n",
              "      <td>2</td>\n",
              "      <td>4</td>\n",
              "      <td>6</td>\n",
              "      <td>7</td>\n",
              "      <td>6</td>\n",
              "      <td>7</td>\n",
              "      <td>6</td>\n",
              "      <td>7.0</td>\n",
              "      <td>NaN</td>\n",
              "      <td>6</td>\n",
              "      <td>6</td>\n",
              "      <td>6</td>\n",
              "      <td>6</td>\n",
              "      <td>6</td>\n",
              "      <td>7</td>\n",
              "      <td>7</td>\n",
              "      <td>6</td>\n",
              "      <td>6</td>\n",
              "      <td>7</td>\n",
              "    </tr>\n",
              "    <tr>\n",
              "      <th>3</th>\n",
              "      <td>4</td>\n",
              "      <td>0</td>\n",
              "      <td>5946600</td>\n",
              "      <td>17</td>\n",
              "      <td>349800</td>\n",
              "      <td>1</td>\n",
              "      <td>5195</td>\n",
              "      <td>1</td>\n",
              "      <td>4</td>\n",
              "      <td>1</td>\n",
              "      <td>5</td>\n",
              "      <td>5</td>\n",
              "      <td>1</td>\n",
              "      <td>6</td>\n",
              "      <td>1019</td>\n",
              "      <td>0</td>\n",
              "      <td>3</td>\n",
              "      <td>5</td>\n",
              "      <td>7</td>\n",
              "      <td>3</td>\n",
              "      <td>5</td>\n",
              "      <td>3</td>\n",
              "      <td>5</td>\n",
              "      <td>5</td>\n",
              "      <td>6</td>\n",
              "      <td>6</td>\n",
              "      <td>6</td>\n",
              "      <td>5.0</td>\n",
              "      <td>6.0</td>\n",
              "      <td>6</td>\n",
              "      <td>6</td>\n",
              "      <td>5</td>\n",
              "      <td>6</td>\n",
              "      <td>6</td>\n",
              "      <td>6</td>\n",
              "      <td>6</td>\n",
              "      <td>6</td>\n",
              "      <td>5</td>\n",
              "      <td>6</td>\n",
              "    </tr>\n",
              "    <tr>\n",
              "      <th>4</th>\n",
              "      <td>5</td>\n",
              "      <td>0</td>\n",
              "      <td>13745950</td>\n",
              "      <td>73</td>\n",
              "      <td>188301</td>\n",
              "      <td>9</td>\n",
              "      <td>246350</td>\n",
              "      <td>1</td>\n",
              "      <td>2</td>\n",
              "      <td>0</td>\n",
              "      <td>6</td>\n",
              "      <td>6</td>\n",
              "      <td>0</td>\n",
              "      <td>6</td>\n",
              "      <td>1086</td>\n",
              "      <td>0</td>\n",
              "      <td>5</td>\n",
              "      <td>6</td>\n",
              "      <td>7</td>\n",
              "      <td>6</td>\n",
              "      <td>7</td>\n",
              "      <td>5</td>\n",
              "      <td>6</td>\n",
              "      <td>6</td>\n",
              "      <td>5</td>\n",
              "      <td>6</td>\n",
              "      <td>6</td>\n",
              "      <td>5.0</td>\n",
              "      <td>6.0</td>\n",
              "      <td>5</td>\n",
              "      <td>6</td>\n",
              "      <td>6</td>\n",
              "      <td>6</td>\n",
              "      <td>5</td>\n",
              "      <td>5</td>\n",
              "      <td>6</td>\n",
              "      <td>6</td>\n",
              "      <td>5</td>\n",
              "      <td>6</td>\n",
              "    </tr>\n",
              "  </tbody>\n",
              "</table>\n",
              "</div>"
            ],
            "text/plain": [
              "   고객ID  이탈여부     총_매출액  방문빈도  1회_평균매출액  ...  친절성  신속성  책임성  정확성  전문성\n",
              "0     1     0   4007080    17    235711  ...    6    6    6    6    6\n",
              "1     2     1   3168400    14    226314  ...    5    3    6    6    6\n",
              "2     3     0   2680780    18    148932  ...    7    7    6    6    7\n",
              "3     4     0   5946600    17    349800  ...    6    6    6    5    6\n",
              "4     5     0  13745950    73    188301  ...    5    6    6    5    6\n",
              "\n",
              "[5 rows x 39 columns]"
            ]
          },
          "metadata": {
            "tags": []
          },
          "execution_count": 5
        }
      ]
    },
    {
      "cell_type": "code",
      "metadata": {
        "id": "lNHfzamVKPcH",
        "outputId": "ec064017-ce9d-42ea-d314-491203ee1133",
        "colab": {
          "base_uri": "https://localhost:8080/",
          "height": 51
        }
      },
      "source": [
        "# 총 매출액 평균 및 일표본 t-검정\n",
        "print('총매출액 평균 :', df.총_매출액.mean())\n",
        "print(stats.ttest_1samp(df['총_매출액'], 7700000))"
      ],
      "execution_count": 11,
      "outputs": [
        {
          "output_type": "stream",
          "text": [
            "총매출액 평균 : 7068689.76\n",
            "Ttest_1sampResult(statistic=-2.8657430145836007, pvalue=0.00424758614832654)\n"
          ],
          "name": "stdout"
        }
      ]
    },
    {
      "cell_type": "markdown",
      "metadata": {
        "id": "1iZRMtnzNtCy"
      },
      "source": [
        "- 결과 해석(유의수준 0.01)\n",
        "  + 유의확률은 0.0042\n",
        "  + 귀무가설 기각: A 쇼핑 VIP 고객들의 총 매출액 평균은 7700000원이 아니다.\n",
        "  + 목표치 재절성 및 VIP 고객들의 매출액에 영향을 미치는 원인 조사 필요\n",
        "  "
      ]
    },
    {
      "cell_type": "markdown",
      "metadata": {
        "id": "6Xngz2tCk6Ui"
      },
      "source": [
        "## 6.3. 독립표본 t-검정\n",
        "- 개념: 독립된 두 표본 집단의 평균을 비교\n",
        "  + 예시: A통신사와 B통신사 고객들의 하루 평균 통화량(분) 비교\n",
        "\n",
        "- 독립표본 t-검정 값 산출방식\n",
        "  + 두 표본의 분산이 같을 경우(등분산)\n",
        "  + 두 표본의 분산이 다를 경우(등분산 X)\n",
        "  + t값 = 두 표본의 평균 차이 값과 두 모집단의 평균 차이 값 간의 편차가 허용 가능한 오차 수준(표준오차)에 비해 몇 배 더 큰지 나타내는 값"
      ]
    },
    {
      "cell_type": "markdown",
      "metadata": {
        "id": "2cPxdgxXpuZ8"
      },
      "source": [
        "- (예시) A 쇼핑의 마케팅 부서는 콜센터를 통해 접수된 클레임고객에 대한 특별 마케팅 기획을 하고자 한다. 클레임 고객은 상대적으로 매장을 찾는 횟수가 적어져 이탈위험도가 높을 것이라고 예상되기 때문이다. 이를 위해 클레임 고객과 비클레임 고객간의 매장 방문 횟수가 실제로 차이가 있는지를 먼저 검증해보자.\n",
        "  + 귀무가설(H0): A 쇼핑 클레임 고객들과 비클레임 고객들의 방문횟수 차이는 없다.\n",
        "  + 연구가설(H1): A 쇼핑 클레임 고객들과 비클레임 고객들의 방문횟수 차이는 있다.\n",
        "  + 사용함수\n",
        "    + 등분산 검정\n",
        "      + stats.bartlett(): 데이터가 정규 분포인 경우\n",
        "      + stats.flinger(): 비모수 검정으로써 정규성 논하기 어려울 경우\n",
        "      + stats.levene(): 데이터가 정규분포를 따르지 않을 경우\n",
        "    + 독립표본 t-검정\n",
        "      + stats.ttest_ind(data1, data2, equal_var=False)\n",
        "        + equal_var: 등분산의 여부로(T/F)"
      ]
    },
    {
      "cell_type": "code",
      "metadata": {
        "id": "Bb-QpG1eoxNt",
        "outputId": "90e851d5-9072-4896-da33-1aaff4dfc244",
        "colab": {
          "base_uri": "https://localhost:8080/",
          "height": 386
        }
      },
      "source": [
        "no_claim = df[df.클레임접수여부==0]\n",
        "claim = df[df.클레임접수여부==1]\n",
        "\n",
        "no_claim.head(2)"
      ],
      "execution_count": 6,
      "outputs": [
        {
          "output_type": "execute_result",
          "data": {
            "text/html": [
              "<div>\n",
              "<style scoped>\n",
              "    .dataframe tbody tr th:only-of-type {\n",
              "        vertical-align: middle;\n",
              "    }\n",
              "\n",
              "    .dataframe tbody tr th {\n",
              "        vertical-align: top;\n",
              "    }\n",
              "\n",
              "    .dataframe thead th {\n",
              "        text-align: right;\n",
              "    }\n",
              "</style>\n",
              "<table border=\"1\" class=\"dataframe\">\n",
              "  <thead>\n",
              "    <tr style=\"text-align: right;\">\n",
              "      <th></th>\n",
              "      <th>고객ID</th>\n",
              "      <th>이탈여부</th>\n",
              "      <th>총_매출액</th>\n",
              "      <th>방문빈도</th>\n",
              "      <th>1회_평균매출액</th>\n",
              "      <th>할인권_사용 횟수</th>\n",
              "      <th>총_할인_금액</th>\n",
              "      <th>고객등급</th>\n",
              "      <th>구매유형</th>\n",
              "      <th>클레임접수여부</th>\n",
              "      <th>구매_카테고리_수</th>\n",
              "      <th>거주지역</th>\n",
              "      <th>성별</th>\n",
              "      <th>고객_나이대</th>\n",
              "      <th>거래기간</th>\n",
              "      <th>할인민감여부</th>\n",
              "      <th>멤버쉽_프로그램_가입전_만족도</th>\n",
              "      <th>멤버쉽_프로그램_가입후_만족도</th>\n",
              "      <th>Recency</th>\n",
              "      <th>Frequency</th>\n",
              "      <th>Monetary</th>\n",
              "      <th>상품_만족도</th>\n",
              "      <th>매장_만족도</th>\n",
              "      <th>서비스_만족도</th>\n",
              "      <th>상품_품질</th>\n",
              "      <th>상품_다양성</th>\n",
              "      <th>가격_적절성</th>\n",
              "      <th>상품_진열_위치</th>\n",
              "      <th>상품_설명_표시</th>\n",
              "      <th>매장_청결성</th>\n",
              "      <th>공간_편의성</th>\n",
              "      <th>시야_확보성</th>\n",
              "      <th>음향_적절성</th>\n",
              "      <th>안내_표지판_설명</th>\n",
              "      <th>친절성</th>\n",
              "      <th>신속성</th>\n",
              "      <th>책임성</th>\n",
              "      <th>정확성</th>\n",
              "      <th>전문성</th>\n",
              "    </tr>\n",
              "  </thead>\n",
              "  <tbody>\n",
              "    <tr>\n",
              "      <th>0</th>\n",
              "      <td>1</td>\n",
              "      <td>0</td>\n",
              "      <td>4007080</td>\n",
              "      <td>17</td>\n",
              "      <td>235711</td>\n",
              "      <td>1</td>\n",
              "      <td>5445</td>\n",
              "      <td>1</td>\n",
              "      <td>4</td>\n",
              "      <td>0</td>\n",
              "      <td>6</td>\n",
              "      <td>6</td>\n",
              "      <td>1</td>\n",
              "      <td>4</td>\n",
              "      <td>1079</td>\n",
              "      <td>0</td>\n",
              "      <td>5</td>\n",
              "      <td>7</td>\n",
              "      <td>7</td>\n",
              "      <td>3</td>\n",
              "      <td>4</td>\n",
              "      <td>6</td>\n",
              "      <td>5</td>\n",
              "      <td>6</td>\n",
              "      <td>7</td>\n",
              "      <td>7</td>\n",
              "      <td>6</td>\n",
              "      <td>7.0</td>\n",
              "      <td>6.0</td>\n",
              "      <td>6</td>\n",
              "      <td>7</td>\n",
              "      <td>6</td>\n",
              "      <td>6</td>\n",
              "      <td>6</td>\n",
              "      <td>6</td>\n",
              "      <td>6</td>\n",
              "      <td>6</td>\n",
              "      <td>6</td>\n",
              "      <td>6</td>\n",
              "    </tr>\n",
              "    <tr>\n",
              "      <th>1</th>\n",
              "      <td>2</td>\n",
              "      <td>1</td>\n",
              "      <td>3168400</td>\n",
              "      <td>14</td>\n",
              "      <td>226314</td>\n",
              "      <td>22</td>\n",
              "      <td>350995</td>\n",
              "      <td>2</td>\n",
              "      <td>4</td>\n",
              "      <td>0</td>\n",
              "      <td>4</td>\n",
              "      <td>4</td>\n",
              "      <td>1</td>\n",
              "      <td>1</td>\n",
              "      <td>537</td>\n",
              "      <td>0</td>\n",
              "      <td>2</td>\n",
              "      <td>3</td>\n",
              "      <td>2</td>\n",
              "      <td>3</td>\n",
              "      <td>3</td>\n",
              "      <td>2</td>\n",
              "      <td>5</td>\n",
              "      <td>4</td>\n",
              "      <td>6</td>\n",
              "      <td>7</td>\n",
              "      <td>6</td>\n",
              "      <td>6.0</td>\n",
              "      <td>NaN</td>\n",
              "      <td>7</td>\n",
              "      <td>7</td>\n",
              "      <td>6</td>\n",
              "      <td>6</td>\n",
              "      <td>6</td>\n",
              "      <td>5</td>\n",
              "      <td>3</td>\n",
              "      <td>6</td>\n",
              "      <td>6</td>\n",
              "      <td>6</td>\n",
              "    </tr>\n",
              "  </tbody>\n",
              "</table>\n",
              "</div>"
            ],
            "text/plain": [
              "   고객ID  이탈여부    총_매출액  방문빈도  1회_평균매출액  ...  친절성  신속성  책임성  정확성  전문성\n",
              "0     1     0  4007080    17    235711  ...    6    6    6    6    6\n",
              "1     2     1  3168400    14    226314  ...    5    3    6    6    6\n",
              "\n",
              "[2 rows x 39 columns]"
            ]
          },
          "metadata": {
            "tags": []
          },
          "execution_count": 6
        }
      ]
    },
    {
      "cell_type": "code",
      "metadata": {
        "id": "Ezp1Rvj2o64H",
        "outputId": "b59d01c4-b85b-4eaf-ed92-7dd67a7e5fe0",
        "colab": {
          "base_uri": "https://localhost:8080/",
          "height": 34
        }
      },
      "source": [
        "# stats.bartlett 함수는 배열 형태의 데이터를 입력 받음\n",
        "df2 = np.array(no_claim.방문빈도)\n",
        "df3 = np.array(claim.방문빈도)\n",
        "\n",
        "df2[:2]"
      ],
      "execution_count": 7,
      "outputs": [
        {
          "output_type": "execute_result",
          "data": {
            "text/plain": [
              "array([17, 14])"
            ]
          },
          "metadata": {
            "tags": []
          },
          "execution_count": 7
        }
      ]
    },
    {
      "cell_type": "code",
      "metadata": {
        "id": "MLEFthpRKgC_",
        "outputId": "f9bea856-7259-4894-a267-29453c4e9923",
        "colab": {
          "base_uri": "https://localhost:8080/",
          "height": 34
        }
      },
      "source": [
        "# 등분산 검정\n",
        "  # 귀무가설: 두 표본 집단은 등분산이다\n",
        "  # 연구가설: 두 표본 집단은 등분산이 아니다\n",
        "stats.bartlett(df2, df3)"
      ],
      "execution_count": 8,
      "outputs": [
        {
          "output_type": "execute_result",
          "data": {
            "text/plain": [
              "BartlettResult(statistic=13.626177910965525, pvalue=0.00022305349806448475)"
            ]
          },
          "metadata": {
            "tags": []
          },
          "execution_count": 8
        }
      ]
    },
    {
      "cell_type": "code",
      "metadata": {
        "id": "NCdMiv9mSRu6",
        "outputId": "98c3dc42-48eb-48ad-9a44-598218366981",
        "colab": {
          "base_uri": "https://localhost:8080/",
          "height": 68
        }
      },
      "source": [
        "# 독립표본 t-검정 및 방문빈도 평균\n",
        "print(stats.ttest_ind(df2,df3, equal_var=False))  # 등분산 검정에서 연구가설 채택(유의수준 0.05)\n",
        "print('클레임 접수여부(0) 고객 평균방문빈도 :', no_claim.방문빈도.mean())\n",
        "print('클레임 접수여부(1) 고객 평균방문빈도 :', claim.방문빈도.mean())"
      ],
      "execution_count": 9,
      "outputs": [
        {
          "output_type": "stream",
          "text": [
            "Ttest_indResult(statistic=2.595726838875684, pvalue=0.009577734932789503)\n",
            "클레임 접수여부(0) 고객 평균방문빈도 : 28.184842883548985\n",
            "클레임 접수여부(1) 고객 평균방문빈도 : 24.736383442265794\n"
          ],
          "name": "stdout"
        }
      ]
    },
    {
      "cell_type": "markdown",
      "metadata": {
        "id": "wOjqWusBsU90"
      },
      "source": [
        "- 결과 해석(유의수준 0.05)\n",
        "  + 1) 등분산 검정: 유의확률 0.00022로 귀무가설 기각, 두 표본의 분산은 동일하지 않음\n",
        "  + 2) 등분산 가정되지 않은 t-검정: 유의확률 0.0096\n",
        "  + 귀무가설 기각: 클레임 접수 여부에 따라 방문 빈도는 차이가 있다.\n",
        "  + 클레임 접수 고객에 대한 별도의 관리 필요"
      ]
    },
    {
      "cell_type": "markdown",
      "metadata": {
        "id": "NOtDitVpn8u2"
      },
      "source": [
        "## 6.4. 쌍체표본 t-검정\n",
        "- 개념: 동일한 표본이 두 개의 서로 다른 상황(실험 처리 여부 혹은 시간의 흐름)에서 특정 수치형 변수의 평균이 동일한 지의 여부를 판단하는 분석방법\n",
        "  + 예시: A 통신사 고객 중 S사의 새로운 스마트폰으로 교체한 고객들의 교체 이전과 이후 하루 평균 통화량의 비교\n",
        "\n",
        "- 쌍체표본 t-검정 값 산출 방식\n",
        "  + t값 = 실험 전과 후 혹은 특정 시점과 그 이후 시점과 같이 쌍체로 이루어진 두 표본의 평균 차이 값과 이 두 쌍체 모집단의 평균 차이 값 간의 편차가 허용 가능한 오차수준(표준 오차)에 비해 몇 배 더 큰지를 나타내는 값\n",
        "\n",
        "- 쌍체표본 t-검정의 특징\n",
        "  + 쌍체표본 t-검정은 분석 대상의 표본이 반드시 대응되어야 한다\n",
        "    + 완전히 쌍체가 아니라면 결측 값 처리해야 함\n",
        "      + 삭제법: 해당 표본 삭제\n",
        "      + 표본 평균법: 해당 표본의 산술평균 값 할당\n",
        "      + 단순 대치법: 회귀분석 등의 방법으로 결측 값 예측\n",
        "      + 다중 대치법: 대체 가능한 여러 후보 값 추정 후 무작위로 대체 값 중의 하나 추출 및 할당\n",
        "      + Hot-deck 대체법: 실제 관측된 값 중 하나 추출하여 대체하는 방법, 동일한 특성을 가지고 있는 값들 중 하나 무작위 추출 및 할당\n",
        "  + 쌍체 표본 데이터는 시간상 전후의 개념이 있기 때문에 집단간의 독립성 가정 필요 X, 두 모분산이 같다고 가정할 필요 X"
      ]
    },
    {
      "cell_type": "markdown",
      "metadata": {
        "id": "O0c-DMo8oB-U"
      },
      "source": [
        "- (예시) A 쇼핑 마케팅 팀에서는 그 동안 단순 포인트 적립 및 결제 시 차감 사용 방식으로 운영되어 온 멤버십 제도를 등급별 사은품 및 쿠폰 지급 기능이 추가된 전략적 로열티 프로그램으로 개선하였다. 이를 통한 고객들의 로열티 프로그램 만족도의 변화가 통계적으로 유의한지 알아보자.\n",
        "  + 귀무가설(H0): A 쇼핑 고객들의 멤버십 프로그램 도입 전 만족도와 도입 후 만족도의 차이는 없다.\n",
        "  + 연구가설(H1): A 쇼핑 고객들의 멤버십 프로그램 도입 전 만족도와 도입 후 만족도의 차이는 있다.\n",
        "  + 사용함수: stats.ttest_rel(data1, data2)"
      ]
    },
    {
      "cell_type": "code",
      "metadata": {
        "id": "y4iPcR6cv1ni",
        "outputId": "06fff66a-f8be-49df-8999-efb5f0b67cda",
        "colab": {
          "base_uri": "https://localhost:8080/",
          "height": 221
        }
      },
      "source": [
        "df['멤버쉽_프로그램_가입후_만족도']"
      ],
      "execution_count": 12,
      "outputs": [
        {
          "output_type": "execute_result",
          "data": {
            "text/plain": [
              "0      7\n",
              "1      3\n",
              "2      6\n",
              "3      5\n",
              "4      6\n",
              "      ..\n",
              "995    6\n",
              "996    4\n",
              "997    5\n",
              "998    6\n",
              "999    5\n",
              "Name: 멤버쉽_프로그램_가입후_만족도, Length: 1000, dtype: int64"
            ]
          },
          "metadata": {
            "tags": []
          },
          "execution_count": 12
        }
      ]
    },
    {
      "cell_type": "code",
      "metadata": {
        "id": "tDRfi2OuSTUA",
        "outputId": "235e6539-ec73-43ff-8cf9-dd3f1071fe0d",
        "colab": {
          "base_uri": "https://localhost:8080/",
          "height": 68
        }
      },
      "source": [
        "print('멤버쉽 프로그램 가입전 만족도: ', df['멤버쉽_프로그램_가입전_만족도'].mean())\n",
        "print('멤버쉽 프로그램 가입후 만족도: ', df['멤버쉽_프로그램_가입후_만족도'].mean())\n",
        "stats.ttest_rel(df['멤버쉽_프로그램_가입후_만족도'],df['멤버쉽_프로그램_가입전_만족도'])"
      ],
      "execution_count": 14,
      "outputs": [
        {
          "output_type": "stream",
          "text": [
            "멤버쉽 프로그램 가입전 만족도:  4.296\n",
            "멤버쉽 프로그램 가입후 만족도:  5.524\n"
          ],
          "name": "stdout"
        },
        {
          "output_type": "execute_result",
          "data": {
            "text/plain": [
              "Ttest_relResult(statistic=29.560410783358122, pvalue=1.7319140513197275e-138)"
            ]
          },
          "metadata": {
            "tags": []
          },
          "execution_count": 14
        }
      ]
    },
    {
      "cell_type": "markdown",
      "metadata": {
        "id": "fWMRrqgboH7z"
      },
      "source": [
        "- 결과 해석(유의수준 0.05)\n",
        "  + 유의확률은 0.0001이하\n",
        "  + 귀무가설 기각: 신규 프로그램의 가입 전 고객만족도와 가입 후 고객만족도 차이가 있다.\n",
        "  + 새로운 멤버십 프로그램을 고객들이 더 선호하여 전반적인 고객만족도가 높아짐"
      ]
    }
  ]
}