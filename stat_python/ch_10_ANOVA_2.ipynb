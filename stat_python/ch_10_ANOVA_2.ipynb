{
  "nbformat": 4,
  "nbformat_minor": 0,
  "metadata": {
    "colab": {
      "name": "ch_10_ANOVA_2.ipynb",
      "provenance": [],
      "collapsed_sections": [],
      "authorship_tag": "ABX9TyNyMteMBCg5LnUPGEkNA8Y2",
      "include_colab_link": true
    },
    "kernelspec": {
      "name": "python3",
      "display_name": "Python 3"
    }
  },
  "cells": [
    {
      "cell_type": "markdown",
      "metadata": {
        "id": "view-in-github",
        "colab_type": "text"
      },
      "source": [
        "<a href=\"https://colab.research.google.com/github/hanna-joo/statistics/blob/master/stat_python/ch_10_ANOVA_2.ipynb\" target=\"_parent\"><img src=\"https://colab.research.google.com/assets/colab-badge.svg\" alt=\"Open In Colab\"/></a>"
      ]
    },
    {
      "cell_type": "markdown",
      "metadata": {
        "id": "YWrtGtaxDJSK"
      },
      "source": [
        "# 10장. 분산분석 (ANOVA: Analysis of Variance)\n",
        "part 01\n",
        "  - 10.1. 분산분석 기초\n",
        "  - 10.2. 일원분산분석\n",
        "  - 10.3. 이원분산분석\n",
        "  ___\n",
        "part 02\n",
        "  - 10.4. 다변량분산분석\n",
        "  - 10.5. 공분산분석"
      ]
    },
    {
      "cell_type": "markdown",
      "metadata": {
        "id": "dioCoopsxTxL"
      },
      "source": [
        "## 10.0. 준비하기"
      ]
    },
    {
      "cell_type": "code",
      "metadata": {
        "id": "KLFwYPyBPxV-",
        "outputId": "15fd995c-242e-4d42-ad8f-95863dd8bcaa",
        "colab": {
          "base_uri": "https://localhost:8080/",
          "height": 204
        }
      },
      "source": [
        "# 한글 파일 설정\n",
        "%config InlineBackend.figure_format = 'retina'\n",
        "!apt -qq -y install fonts-nanum\n",
        "# 런타임 다시 시작하기"
      ],
      "execution_count": 1,
      "outputs": [
        {
          "output_type": "stream",
          "text": [
            "The following NEW packages will be installed:\n",
            "  fonts-nanum\n",
            "0 upgraded, 1 newly installed, 0 to remove and 6 not upgraded.\n",
            "Need to get 9,604 kB of archives.\n",
            "After this operation, 29.5 MB of additional disk space will be used.\n",
            "Selecting previously unselected package fonts-nanum.\n",
            "(Reading database ... 144617 files and directories currently installed.)\n",
            "Preparing to unpack .../fonts-nanum_20170925-1_all.deb ...\n",
            "Unpacking fonts-nanum (20170925-1) ...\n",
            "Setting up fonts-nanum (20170925-1) ...\n",
            "Processing triggers for fontconfig (2.12.6-0ubuntu2) ...\n"
          ],
          "name": "stdout"
        }
      ]
    },
    {
      "cell_type": "code",
      "metadata": {
        "id": "IzkqGDDvPys9"
      },
      "source": [
        "from pandas.plotting import register_matplotlib_converters\n",
        "import seaborn as sns\n",
        "import pandas as pd\n",
        "import numpy as np\n",
        "import matplotlib.pyplot as plt\n",
        "import matplotlib as mpl\n",
        "import matplotlib.font_manager as fm"
      ],
      "execution_count": 1,
      "outputs": []
    },
    {
      "cell_type": "code",
      "metadata": {
        "id": "oyScbA0FP0CU",
        "outputId": "d3527b88-b7df-411d-d4ed-e22fcdcf450f",
        "colab": {
          "base_uri": "https://localhost:8080/",
          "height": 187
        }
      },
      "source": [
        "for font in fm.fontManager.ttflist:\n",
        "    if 'Nanum' in font.name:\n",
        "        print(font.name, font.fname)"
      ],
      "execution_count": 2,
      "outputs": [
        {
          "output_type": "stream",
          "text": [
            "NanumMyeongjo /usr/share/fonts/truetype/nanum/NanumMyeongjo.ttf\n",
            "NanumMyeongjo /usr/share/fonts/truetype/nanum/NanumMyeongjoBold.ttf\n",
            "NanumSquare /usr/share/fonts/truetype/nanum/NanumSquareB.ttf\n",
            "NanumGothic /usr/share/fonts/truetype/nanum/NanumGothic.ttf\n",
            "NanumBarunGothic /usr/share/fonts/truetype/nanum/NanumBarunGothic.ttf\n",
            "NanumSquareRound /usr/share/fonts/truetype/nanum/NanumSquareRoundB.ttf\n",
            "NanumSquare /usr/share/fonts/truetype/nanum/NanumSquareR.ttf\n",
            "NanumGothic /usr/share/fonts/truetype/nanum/NanumGothicBold.ttf\n",
            "NanumSquareRound /usr/share/fonts/truetype/nanum/NanumSquareRoundR.ttf\n",
            "NanumBarunGothic /usr/share/fonts/truetype/nanum/NanumBarunGothicBold.ttf\n"
          ],
          "name": "stdout"
        }
      ]
    },
    {
      "cell_type": "code",
      "metadata": {
        "id": "SJG6ej_yP1ym"
      },
      "source": [
        "fontpath = '/usr/share/fonts/truetype/nanum/NanumBarunGothic.ttf'\n",
        "font = fm.FontProperties(fname=fontpath, size=9)\n",
        "plt.rc('font', family='NanumBarunGothic') \n",
        "plt.rcParams[\"figure.figsize\"] = (10, 7)\n",
        "register_matplotlib_converters()\n",
        "mpl.font_manager._rebuild()\n",
        "mpl.pyplot.rc('font', family='NanumGothic')\n",
        "fm._rebuild()"
      ],
      "execution_count": 3,
      "outputs": []
    },
    {
      "cell_type": "code",
      "metadata": {
        "id": "NbouCpNmJ0l_",
        "outputId": "c36ea39c-c0b0-41d1-a207-44daca43330d",
        "colab": {
          "base_uri": "https://localhost:8080/",
          "height": 51
        }
      },
      "source": [
        "# 구글 드라이브 연동\n",
        "from google.colab import drive # import drive from google colab\n",
        "\n",
        "ROOT = \"/content/drive\"     # default location for the drive\n",
        "print(ROOT)       \n",
        "          # print content of ROOT (Optional)\n",
        "drive.mount(ROOT, force_remount=True)"
      ],
      "execution_count": 4,
      "outputs": [
        {
          "output_type": "stream",
          "text": [
            "/content/drive\n",
            "Mounted at /content/drive\n"
          ],
          "name": "stdout"
        }
      ]
    },
    {
      "cell_type": "code",
      "metadata": {
        "id": "Uvgc12WdJx1x",
        "outputId": "b5bfcefc-7129-4b91-a2ad-be8146127da0",
        "colab": {
          "base_uri": "https://localhost:8080/",
          "height": 425
        }
      },
      "source": [
        "from os.path import join  \n",
        "\n",
        "MY_GOOGLE_DRIVE_PATH = '/content/drive/My Drive/Colab Notebooks/python_stat/python_stat_data/pythondata'\n",
        "PROJECT_PATH = join(ROOT, MY_GOOGLE_DRIVE_PATH)\n",
        "\n",
        "%cd \"{PROJECT_PATH}\"\n",
        "%ls"
      ],
      "execution_count": 5,
      "outputs": [
        {
          "output_type": "stream",
          "text": [
            "/content/drive/My Drive/Colab Notebooks/python_stat/python_stat_data/pythondata\n",
            "'실습파일_10장 분산분석.ipynb'\n",
            "'실습파일_11장 회귀분석.ipynb'\n",
            "'실습파일_12장 요인분석.ipynb'\n",
            "'실습파일_13장 분류예측분석.ipynb'\n",
            "'실습파일_14장 군집분석.ipynb'\n",
            "'실습파일_15장 포지셔닝 분석.ipynb'\n",
            "'실습파일_16장 컨조인트 분석.ipynb'\n",
            "'실습파일_17장 비모수 통계분석.ipynb'\n",
            "'실습파일_3장 파이썬 기초.ipynb'\n",
            "'실습파일_4장 데이터전처리 및 기초분석.ipynb'\n",
            "'실습파일_5장 기술통계분석.ipynb'\n",
            "'실습파일_6장 t 검정.ipynb'\n",
            "'실습파일_7장 상관관계분석.ipynb'\n",
            "'실습파일_8장 범주형 데이터 분석.ipynb'\n",
            "'실습파일_9장 신뢰성 분석.ipynb'\n",
            " Ashopping.csv\n",
            " CCA.csv\n",
            " Conjoint.csv\n",
            " Correspondence.csv\n",
            " 부록_통계표.docx\n",
            " MDS1.csv\n",
            " MDS3.csv\n",
            "'Step by Step 파이썬 비즈니스 통계분석_정오표.xlsx'\n"
          ],
          "name": "stdout"
        }
      ]
    },
    {
      "cell_type": "code",
      "metadata": {
        "id": "BvLNhlc_aaiA",
        "outputId": "aba8510e-0de6-401d-adff-c7a89433162c",
        "colab": {
          "base_uri": "https://localhost:8080/",
          "height": 1000
        }
      },
      "source": [
        "# 분산분석 패키지 설치\n",
        "!pip install scikit_posthocs # 다양한 사후분석 기능 제공\n",
        "!pip install pingouin"
      ],
      "execution_count": 6,
      "outputs": [
        {
          "output_type": "stream",
          "text": [
            "Collecting scikit_posthocs\n",
            "  Downloading https://files.pythonhosted.org/packages/51/3f/d91af38434dfd4724959cc177350fa57acd3c0f834fcb9f96ea3b62078b0/scikit_posthocs-0.6.5-py3-none-any.whl\n",
            "Requirement already satisfied: scipy in /usr/local/lib/python3.6/dist-packages (from scikit_posthocs) (1.4.1)\n",
            "Requirement already satisfied: matplotlib in /usr/local/lib/python3.6/dist-packages (from scikit_posthocs) (3.2.2)\n",
            "Requirement already satisfied: statsmodels in /usr/local/lib/python3.6/dist-packages (from scikit_posthocs) (0.10.2)\n",
            "Requirement already satisfied: seaborn in /usr/local/lib/python3.6/dist-packages (from scikit_posthocs) (0.11.0)\n",
            "Requirement already satisfied: pandas>=0.20.0 in /usr/local/lib/python3.6/dist-packages (from scikit_posthocs) (1.1.2)\n",
            "Requirement already satisfied: numpy in /usr/local/lib/python3.6/dist-packages (from scikit_posthocs) (1.18.5)\n",
            "Requirement already satisfied: pyparsing!=2.0.4,!=2.1.2,!=2.1.6,>=2.0.1 in /usr/local/lib/python3.6/dist-packages (from matplotlib->scikit_posthocs) (2.4.7)\n",
            "Requirement already satisfied: kiwisolver>=1.0.1 in /usr/local/lib/python3.6/dist-packages (from matplotlib->scikit_posthocs) (1.2.0)\n",
            "Requirement already satisfied: python-dateutil>=2.1 in /usr/local/lib/python3.6/dist-packages (from matplotlib->scikit_posthocs) (2.8.1)\n",
            "Requirement already satisfied: cycler>=0.10 in /usr/local/lib/python3.6/dist-packages (from matplotlib->scikit_posthocs) (0.10.0)\n",
            "Requirement already satisfied: patsy>=0.4.0 in /usr/local/lib/python3.6/dist-packages (from statsmodels->scikit_posthocs) (0.5.1)\n",
            "Requirement already satisfied: pytz>=2017.2 in /usr/local/lib/python3.6/dist-packages (from pandas>=0.20.0->scikit_posthocs) (2018.9)\n",
            "Requirement already satisfied: six>=1.5 in /usr/local/lib/python3.6/dist-packages (from python-dateutil>=2.1->matplotlib->scikit_posthocs) (1.15.0)\n",
            "Installing collected packages: scikit-posthocs\n",
            "Successfully installed scikit-posthocs-0.6.5\n",
            "Collecting pingouin\n",
            "\u001b[?25l  Downloading https://files.pythonhosted.org/packages/e6/5f/4618f878765a8b7037b8831f19105c5c2764b26e5e9afa4a29c58fc11d26/pingouin-0.3.8.tar.gz (223kB)\n",
            "\u001b[K     |████████████████████████████████| 225kB 2.7MB/s \n",
            "\u001b[?25hRequirement already satisfied: numpy>=1.15 in /usr/local/lib/python3.6/dist-packages (from pingouin) (1.18.5)\n",
            "Requirement already satisfied: scipy>=1.3 in /usr/local/lib/python3.6/dist-packages (from pingouin) (1.4.1)\n",
            "Requirement already satisfied: pandas>=0.24 in /usr/local/lib/python3.6/dist-packages (from pingouin) (1.1.2)\n",
            "Requirement already satisfied: matplotlib>=3.0.2 in /usr/local/lib/python3.6/dist-packages (from pingouin) (3.2.2)\n",
            "Requirement already satisfied: seaborn>=0.9.0 in /usr/local/lib/python3.6/dist-packages (from pingouin) (0.11.0)\n",
            "Requirement already satisfied: statsmodels>=0.10.0 in /usr/local/lib/python3.6/dist-packages (from pingouin) (0.10.2)\n",
            "Requirement already satisfied: scikit-learn in /usr/local/lib/python3.6/dist-packages (from pingouin) (0.22.2.post1)\n",
            "Collecting pandas_flavor>=0.1.2\n",
            "  Downloading https://files.pythonhosted.org/packages/9a/57/7fbcff4c0961ed190ac5fcb0bd8194152ee1ee6487edf64fdbae16e2bc4b/pandas_flavor-0.2.0-py2.py3-none-any.whl\n",
            "Collecting outdated\n",
            "  Downloading https://files.pythonhosted.org/packages/86/70/2f166266438a30e94140f00c99c0eac1c45807981052a1d4c123660e1323/outdated-0.2.0.tar.gz\n",
            "Requirement already satisfied: tabulate in /usr/local/lib/python3.6/dist-packages (from pingouin) (0.8.7)\n",
            "Requirement already satisfied: pytz>=2017.2 in /usr/local/lib/python3.6/dist-packages (from pandas>=0.24->pingouin) (2018.9)\n",
            "Requirement already satisfied: python-dateutil>=2.7.3 in /usr/local/lib/python3.6/dist-packages (from pandas>=0.24->pingouin) (2.8.1)\n",
            "Requirement already satisfied: kiwisolver>=1.0.1 in /usr/local/lib/python3.6/dist-packages (from matplotlib>=3.0.2->pingouin) (1.2.0)\n",
            "Requirement already satisfied: pyparsing!=2.0.4,!=2.1.2,!=2.1.6,>=2.0.1 in /usr/local/lib/python3.6/dist-packages (from matplotlib>=3.0.2->pingouin) (2.4.7)\n",
            "Requirement already satisfied: cycler>=0.10 in /usr/local/lib/python3.6/dist-packages (from matplotlib>=3.0.2->pingouin) (0.10.0)\n",
            "Requirement already satisfied: patsy>=0.4.0 in /usr/local/lib/python3.6/dist-packages (from statsmodels>=0.10.0->pingouin) (0.5.1)\n",
            "Requirement already satisfied: joblib>=0.11 in /usr/local/lib/python3.6/dist-packages (from scikit-learn->pingouin) (0.16.0)\n",
            "Requirement already satisfied: xarray in /usr/local/lib/python3.6/dist-packages (from pandas_flavor>=0.1.2->pingouin) (0.15.1)\n",
            "Collecting littleutils\n",
            "  Downloading https://files.pythonhosted.org/packages/4e/b1/bb4e06f010947d67349f863b6a2ad71577f85590180a935f60543f622652/littleutils-0.2.2.tar.gz\n",
            "Requirement already satisfied: requests in /usr/local/lib/python3.6/dist-packages (from outdated->pingouin) (2.23.0)\n",
            "Requirement already satisfied: six>=1.5 in /usr/local/lib/python3.6/dist-packages (from python-dateutil>=2.7.3->pandas>=0.24->pingouin) (1.15.0)\n",
            "Requirement already satisfied: setuptools>=41.2 in /usr/local/lib/python3.6/dist-packages (from xarray->pandas_flavor>=0.1.2->pingouin) (50.3.0)\n",
            "Requirement already satisfied: urllib3!=1.25.0,!=1.25.1,<1.26,>=1.21.1 in /usr/local/lib/python3.6/dist-packages (from requests->outdated->pingouin) (1.24.3)\n",
            "Requirement already satisfied: certifi>=2017.4.17 in /usr/local/lib/python3.6/dist-packages (from requests->outdated->pingouin) (2020.6.20)\n",
            "Requirement already satisfied: chardet<4,>=3.0.2 in /usr/local/lib/python3.6/dist-packages (from requests->outdated->pingouin) (3.0.4)\n",
            "Requirement already satisfied: idna<3,>=2.5 in /usr/local/lib/python3.6/dist-packages (from requests->outdated->pingouin) (2.10)\n",
            "Building wheels for collected packages: pingouin, outdated, littleutils\n",
            "  Building wheel for pingouin (setup.py) ... \u001b[?25l\u001b[?25hdone\n",
            "  Created wheel for pingouin: filename=pingouin-0.3.8-cp36-none-any.whl size=221688 sha256=a9b7d6f1fdec13977621f39b7202553c7fd97507d47e9a58396492bde4f772c4\n",
            "  Stored in directory: /root/.cache/pip/wheels/d6/9e/53/f885f73f29cf7c8cac3d8f4b1532bbfef2f5eb543946ac9055\n",
            "  Building wheel for outdated (setup.py) ... \u001b[?25l\u001b[?25hdone\n",
            "  Created wheel for outdated: filename=outdated-0.2.0-cp36-none-any.whl size=4961 sha256=a56a9cf1a84c8187ab68911ee21da4fc74393474dcde85cc5d5274edf60991c1\n",
            "  Stored in directory: /root/.cache/pip/wheels/fd/7c/ef/814f514d31197310872b5abf353feb8fef9d67ee658e1e7e39\n",
            "  Building wheel for littleutils (setup.py) ... \u001b[?25l\u001b[?25hdone\n",
            "  Created wheel for littleutils: filename=littleutils-0.2.2-cp36-none-any.whl size=7051 sha256=d6b10465576e4e39bbb0e29ec3a867108c9bd30592b2a5a9b895c45fad105ebb\n",
            "  Stored in directory: /root/.cache/pip/wheels/53/16/9f/ac67d15c40243754fd73f620e1b9b6dedc20492ecc19a2bae1\n",
            "Successfully built pingouin outdated littleutils\n",
            "Installing collected packages: pandas-flavor, littleutils, outdated, pingouin\n",
            "Successfully installed littleutils-0.2.2 outdated-0.2.0 pandas-flavor-0.2.0 pingouin-0.3.8\n"
          ],
          "name": "stdout"
        }
      ]
    },
    {
      "cell_type": "code",
      "metadata": {
        "id": "V9WrG5e4aZ2x",
        "outputId": "096a97ba-8750-40bc-cc2d-2b2bd13d7e6a",
        "colab": {
          "base_uri": "https://localhost:8080/",
          "height": 71
        }
      },
      "source": [
        "# 모듈 및 데이터 탑재\n",
        "import pandas as pd\n",
        "import numpy as np\n",
        "import scipy as sp\n",
        "import pingouin as pg\n",
        "import scikit_posthocs"
      ],
      "execution_count": 7,
      "outputs": [
        {
          "output_type": "stream",
          "text": [
            "/usr/local/lib/python3.6/dist-packages/statsmodels/tools/_testing.py:19: FutureWarning: pandas.util.testing is deprecated. Use the functions in the public API at pandas.testing instead.\n",
            "  import pandas.util.testing as tm\n"
          ],
          "name": "stderr"
        }
      ]
    },
    {
      "cell_type": "code",
      "metadata": {
        "id": "FxuQJeClbL_J"
      },
      "source": [
        "df = pd.read_csv('Ashopping.csv', sep=',', encoding='CP949')"
      ],
      "execution_count": 8,
      "outputs": []
    },
    {
      "cell_type": "markdown",
      "metadata": {
        "id": "PCPUoOf_HSMZ"
      },
      "source": [
        "## 10.4. 다변량분산분석 (MANOVA: Multivariate Analysis of Variance)\n",
        "### (1) 개념 및 주요 이론\n",
        "- 종속변수 2개 이상\n",
        "- 종속변수는 벡터변수, 벡터 간 거리를 검증하는 것이 다변량분산분석\n",
        "- **종속변수 사이에 상관관계가 존재하는지**를 먼저 파악!!!\n",
        "  + 상관관계가 없다면 단일변량 분산분석으로 각각 분석을 진행해도 무방\n",
        "  + 상관관계가 있다면 다변량 분산분석으로 진행\n",
        "- 다변량 분산분석 통계량: 유의성 검증을 위해 살벼봐야 하는 주요 분석지표\n",
        "\n",
        "|다변량 통계치|설명|값|\n",
        "|:------|:------------|:---|\n",
        "|Pillai's Trace|집단간분산/총분산|클수록 유의|\n",
        "|Wilk's Lambda|집단내분산/총분산|값이 작을수록 유의|\n",
        "|Hotteling's T2|집단간분산/집단내분산|클수록 유의|"
      ]
    },
    {
      "cell_type": "markdown",
      "metadata": {
        "id": "YqPC4t6gI5JS"
      },
      "source": [
        "### (2) 분석 및 해석\n",
        "- 문제\n",
        "  + A 쇼핑에서는 다변량분산분석을 통해 구매유형, 거주지역에 따라 방문빈도 및 총 매출액의 차이를 검정하려 한다.  \n",
        "\n",
        "- 가설 \n",
        "  + H0(귀무가설) = A 쇼핑 고객의 구매유형, 거주지역에 따른 방문빈도, 총 매출액의 차이는 없다.\n",
        "  + H1(연구가설) = A 쇼핑 고객의 구매유형, 거주지역에 따른 방문빈도, 총 매출액의 차이는 있다."
      ]
    },
    {
      "cell_type": "code",
      "metadata": {
        "id": "jNiZsX28DETc",
        "outputId": "02d80884-ef77-446b-a106-d04cc12abe55",
        "colab": {
          "base_uri": "https://localhost:8080/",
          "height": 204
        }
      },
      "source": [
        "# 0. 모듈 및 데이터 탑재\n",
        "import pandas as pd\n",
        "from scipy import stats  # 상관관계 모듈\n",
        "from statsmodels.multivariate.manova import MANOVA  # 다변량분산분석 모듈\n",
        "\n",
        "df = pd.read_csv('Ashopping.csv', sep=',', encoding='CP949')\n",
        "\n",
        "df1 = df[['총_매출액','방문빈도','구매유형','거주지역']]\n",
        "pd.options.display.float_format = '{:.3f}'.format\n",
        "df1.head()"
      ],
      "execution_count": 20,
      "outputs": [
        {
          "output_type": "execute_result",
          "data": {
            "text/html": [
              "<div>\n",
              "<style scoped>\n",
              "    .dataframe tbody tr th:only-of-type {\n",
              "        vertical-align: middle;\n",
              "    }\n",
              "\n",
              "    .dataframe tbody tr th {\n",
              "        vertical-align: top;\n",
              "    }\n",
              "\n",
              "    .dataframe thead th {\n",
              "        text-align: right;\n",
              "    }\n",
              "</style>\n",
              "<table border=\"1\" class=\"dataframe\">\n",
              "  <thead>\n",
              "    <tr style=\"text-align: right;\">\n",
              "      <th></th>\n",
              "      <th>총_매출액</th>\n",
              "      <th>방문빈도</th>\n",
              "      <th>구매유형</th>\n",
              "      <th>거주지역</th>\n",
              "    </tr>\n",
              "  </thead>\n",
              "  <tbody>\n",
              "    <tr>\n",
              "      <th>0</th>\n",
              "      <td>4007080</td>\n",
              "      <td>17</td>\n",
              "      <td>4</td>\n",
              "      <td>6</td>\n",
              "    </tr>\n",
              "    <tr>\n",
              "      <th>1</th>\n",
              "      <td>3168400</td>\n",
              "      <td>14</td>\n",
              "      <td>4</td>\n",
              "      <td>4</td>\n",
              "    </tr>\n",
              "    <tr>\n",
              "      <th>2</th>\n",
              "      <td>2680780</td>\n",
              "      <td>18</td>\n",
              "      <td>4</td>\n",
              "      <td>6</td>\n",
              "    </tr>\n",
              "    <tr>\n",
              "      <th>3</th>\n",
              "      <td>5946600</td>\n",
              "      <td>17</td>\n",
              "      <td>4</td>\n",
              "      <td>5</td>\n",
              "    </tr>\n",
              "    <tr>\n",
              "      <th>4</th>\n",
              "      <td>13745950</td>\n",
              "      <td>73</td>\n",
              "      <td>2</td>\n",
              "      <td>6</td>\n",
              "    </tr>\n",
              "  </tbody>\n",
              "</table>\n",
              "</div>"
            ],
            "text/plain": [
              "      총_매출액  방문빈도  구매유형  거주지역\n",
              "0   4007080    17     4     6\n",
              "1   3168400    14     4     4\n",
              "2   2680780    18     4     6\n",
              "3   5946600    17     4     5\n",
              "4  13745950    73     2     6"
            ]
          },
          "metadata": {
            "tags": []
          },
          "execution_count": 20
        }
      ]
    },
    {
      "cell_type": "code",
      "metadata": {
        "id": "o1fEUoGHKHT_",
        "outputId": "5796881a-0eb9-4874-a6cd-c30248230a8a",
        "colab": {
          "base_uri": "https://localhost:8080/",
          "height": 34
        }
      },
      "source": [
        "# 1. 종속변수 간 상관관계 분석\n",
        "df_temp = df[['총_매출액','방문빈도']]\n",
        "print(stats.pearsonr(df_temp.총_매출액, df1.방문빈도))"
      ],
      "execution_count": 21,
      "outputs": [
        {
          "output_type": "stream",
          "text": [
            "(0.6311706453193392, 3.0519604496887203e-112)\n"
          ],
          "name": "stdout"
        }
      ]
    },
    {
      "cell_type": "code",
      "metadata": {
        "id": "13bqqjobIXNU",
        "outputId": "d47466c4-d8e9-4444-d80d-fa8c7cc6f8d0",
        "colab": {
          "base_uri": "https://localhost:8080/",
          "height": 527
        }
      },
      "source": [
        "# 2. 다변량분산분석\n",
        "print(MANOVA.from_formula('방문빈도+총_매출액 ~ 구매유형+거주지역', data=df1).mv_test())\n",
        "  # 아래에 전체 모형의 적합성/거주지역과 구매유형에 대한 각각의 다변량분석모형의 결과가 순서대로 출력"
      ],
      "execution_count": 22,
      "outputs": [
        {
          "output_type": "stream",
          "text": [
            "                  Multivariate linear model\n",
            "==============================================================\n",
            "                                                              \n",
            "--------------------------------------------------------------\n",
            "        Intercept        Value  Num DF  Den DF  F Value Pr > F\n",
            "--------------------------------------------------------------\n",
            "           Wilks' lambda 0.9578 2.0000 996.0000 21.9327 0.0000\n",
            "          Pillai's trace 0.0422 2.0000 996.0000 21.9327 0.0000\n",
            "  Hotelling-Lawley trace 0.0440 2.0000 996.0000 21.9327 0.0000\n",
            "     Roy's greatest root 0.0440 2.0000 996.0000 21.9327 0.0000\n",
            "--------------------------------------------------------------\n",
            "                                                              \n",
            "--------------------------------------------------------------\n",
            "          구매유형          Value  Num DF  Den DF  F Value  Pr > F\n",
            "--------------------------------------------------------------\n",
            "          Wilks' lambda 0.8248 2.0000 996.0000 105.8119 0.0000\n",
            "         Pillai's trace 0.1752 2.0000 996.0000 105.8119 0.0000\n",
            " Hotelling-Lawley trace 0.2125 2.0000 996.0000 105.8119 0.0000\n",
            "    Roy's greatest root 0.2125 2.0000 996.0000 105.8119 0.0000\n",
            "--------------------------------------------------------------\n",
            "                                                              \n",
            "--------------------------------------------------------------\n",
            "           거주지역          Value  Num DF  Den DF  F Value Pr > F\n",
            "--------------------------------------------------------------\n",
            "           Wilks' lambda 0.8672 2.0000 996.0000 76.2545 0.0000\n",
            "          Pillai's trace 0.1328 2.0000 996.0000 76.2545 0.0000\n",
            "  Hotelling-Lawley trace 0.1531 2.0000 996.0000 76.2545 0.0000\n",
            "     Roy's greatest root 0.1531 2.0000 996.0000 76.2545 0.0000\n",
            "==============================================================\n",
            "\n"
          ],
          "name": "stdout"
        }
      ]
    },
    {
      "cell_type": "code",
      "metadata": {
        "id": "XlJWI6DGJ-3F",
        "outputId": "b418c07f-c140-4768-c4b2-4a676e21712e",
        "colab": {
          "base_uri": "https://localhost:8080/",
          "height": 802
        }
      },
      "source": [
        "# 3. 사후분석\n",
        "  # 패키지 불러오기\n",
        "import scikit_posthocs\n",
        "import numpy as np\n",
        "  # 수치형데이터 문자열로 변환\n",
        "df1['구매유형'] = df1['구매유형'].astype(str)\n",
        "df1['거주지역'] = df1['거주지역'].astype(str)\n",
        "print('구매유형 총매출액 사후분석 \\n',scikit_posthocs.posthoc_scheffe(df1,val_col='총_매출액',group_col='구매유형'))\n",
        "print('\\n거주지역 총매출액 사후분석\\n', scikit_posthocs.posthoc_scheffe(df1, val_col='총_매출액',group_col='거주지역'))\n",
        "print('\\n거주지역 총매출액 사후분석\\n', scikit_posthocs.posthoc_scheffe(df1, val_col='방문빈도',group_col='구매유형'))\n",
        "print('\\n거주지역 총매출액 사후분석\\n', scikit_posthocs.posthoc_scheffe(df1, val_col='방문빈도',group_col='거주지역'))"
      ],
      "execution_count": 13,
      "outputs": [
        {
          "output_type": "stream",
          "text": [
            "구매유형 총매출액 사후분석 \n",
            "       4     2     1     3\n",
            "4 1.000 0.000 0.805 0.000\n",
            "2 0.000 1.000 0.000 0.008\n",
            "1 0.805 0.000 1.000 0.000\n",
            "3 0.000 0.008 0.000 1.000\n",
            "\n",
            "거주지역 총매출액 사후분석\n",
            "       6     4     5     7     3     2     1\n",
            "6 1.000 0.008 0.002 0.000 0.019 0.339 0.988\n",
            "4 0.008 1.000 1.000 0.000 0.978 0.980 1.000\n",
            "5 0.002 1.000 1.000 0.000 0.935 0.965 1.000\n",
            "7 0.000 0.000 0.000 1.000 0.000 0.000 0.412\n",
            "3 0.019 0.978 0.935 0.000 1.000 1.000 1.000\n",
            "2 0.339 0.980 0.965 0.000 1.000 1.000 1.000\n",
            "1 0.988 1.000 1.000 0.412 1.000 1.000 1.000\n",
            "\n",
            "거주지역 총매출액 사후분석\n",
            "       4     2     1     3\n",
            "4 1.000 0.000 0.030 0.998\n",
            "2 0.000 1.000 0.000 0.000\n",
            "1 0.030 0.000 1.000 0.075\n",
            "3 0.998 0.000 0.075 1.000\n",
            "\n",
            "거주지역 총매출액 사후분석\n",
            "       6     4     5     7     3     2     1\n",
            "6 1.000 0.000 0.000 0.000 0.000 0.005 0.451\n",
            "4 0.000 1.000 0.913 0.000 0.370 0.604 0.949\n",
            "5 0.000 0.913 1.000 0.000 0.040 0.303 0.878\n",
            "7 0.000 0.000 0.000 1.000 0.000 0.000 0.018\n",
            "3 0.000 0.370 0.040 0.000 1.000 0.999 1.000\n",
            "2 0.005 0.604 0.303 0.000 0.999 1.000 1.000\n",
            "1 0.451 0.949 0.878 0.018 1.000 1.000 1.000\n"
          ],
          "name": "stdout"
        },
        {
          "output_type": "stream",
          "text": [
            "/usr/local/lib/python3.6/dist-packages/ipykernel_launcher.py:6: SettingWithCopyWarning: \n",
            "A value is trying to be set on a copy of a slice from a DataFrame.\n",
            "Try using .loc[row_indexer,col_indexer] = value instead\n",
            "\n",
            "See the caveats in the documentation: https://pandas.pydata.org/pandas-docs/stable/user_guide/indexing.html#returning-a-view-versus-a-copy\n",
            "  \n",
            "/usr/local/lib/python3.6/dist-packages/ipykernel_launcher.py:7: SettingWithCopyWarning: \n",
            "A value is trying to be set on a copy of a slice from a DataFrame.\n",
            "Try using .loc[row_indexer,col_indexer] = value instead\n",
            "\n",
            "See the caveats in the documentation: https://pandas.pydata.org/pandas-docs/stable/user_guide/indexing.html#returning-a-view-versus-a-copy\n",
            "  import sys\n"
          ],
          "name": "stderr"
        }
      ]
    },
    {
      "cell_type": "code",
      "metadata": {
        "id": "ajCX-u1vLoBx",
        "outputId": "d6cb1b3f-0318-4e17-8563-5ac7225cb68e",
        "colab": {
          "base_uri": "https://localhost:8080/",
          "height": 323
        }
      },
      "source": [
        "# 4. 구매유형, 거주지역별 평균 총매출액, 구매유형, 거주지역별 평균 방문빈도\n",
        "평균총매출액 = pd.pivot_table(df1, index='구매유형', columns='거주지역',values='총_매출액',aggfunc=np.mean)\n",
        "print('\\n구매유형, 거주지역별 평균총매출액\\n', 평균총매출액)\n",
        "평균방문빈도 = pd.pivot_table(df1, index='구매유형', columns='거주지역',values='방문빈도',aggfunc=np.mean)\n",
        "print('\\n구매유형, 거주지역별 평균방문빈도\\n', 평균방문빈도)"
      ],
      "execution_count": 14,
      "outputs": [
        {
          "output_type": "stream",
          "text": [
            "\n",
            "구매유형, 거주지역별 평균총매출액\n",
            " 거주지역           1           2           3  ...            5            6            7\n",
            "구매유형                                      ...                                       \n",
            "1            nan 3281350.000 3002825.000  ...  3637031.667  3712146.667  3864880.000\n",
            "2            nan         nan 4215648.571  ...  6590330.674 10226770.763 13513839.437\n",
            "3    4906400.000 3215055.000 6809777.143  ... 11046081.250 13768678.750 25451441.176\n",
            "4            nan 4034175.556 3720989.697  ...  4272964.468  4749139.200  5138468.276\n",
            "\n",
            "[4 rows x 7 columns]\n",
            "\n",
            "구매유형, 거주지역별 평균방문빈도\n",
            " 거주지역     1      2      3      4      5      6      7\n",
            "구매유형                                                \n",
            "1      nan  8.000  8.667 10.818 10.222  9.667 10.000\n",
            "2      nan    nan 29.143 42.312 39.022 48.212 58.845\n",
            "3    7.750  5.000  7.929 11.903 15.350 20.438 40.765\n",
            "4      nan 12.778 12.485 17.277 18.000 18.768 19.966\n"
          ],
          "name": "stdout"
        }
      ]
    },
    {
      "cell_type": "markdown",
      "metadata": {
        "id": "WpVjZTXXmgFS"
      },
      "source": [
        "- 결과 해석\n",
        "1. 종속변수 간 상관관계 분석\n",
        "  + 방문빈도와 총 매출액 간 유의한 상관관계 존재\n",
        "2. 다변량분산분석\n",
        "  + 전체 모형의 적합성 / 각 종속변수에 대한 다변량분산 분석모형 결과\n",
        "  + 모두 유의확률 0.01 이하로 모형이 유의미\n",
        "3. 사후분석\n",
        "  + 총매출액\n",
        "    + 구매유형: 1-4 제외 나머지 유형 간 차이 유의\n",
        "    + 거주지역: 3-6, 4-6, 5-6, 2-7, 3-7, 4-7, 5-7, 6-7 총매출액 차이 유의\n",
        "  + 방문빈도\n",
        "    + 구매유형: 1-3, 3-4 제외 나머지 유형 간 유의\n",
        "    + 거주지역: 3-5, 2-6, 3-6, 4-6, 5-6, 1-7, 2-7, 3-7, 4-7, 5-7, 6-7 방문빈도 차이 유의\n",
        "4. 구매유형, 거주지역별 평균 총매출액, 구매유형, 거주지역별 평균 방문빈도"
      ]
    },
    {
      "cell_type": "markdown",
      "metadata": {
        "id": "hmL3rVbwRY4X"
      },
      "source": [
        "### (3) 시각화"
      ]
    },
    {
      "cell_type": "code",
      "metadata": {
        "id": "sLvbjJmUO0-V"
      },
      "source": [
        "# 패키지 불러오기\n",
        "import matplotlib\n",
        "import matplotlib.pyplot as plt\n",
        "\n",
        "X = np.hstack(평균방문빈도.values[0:4])\n",
        "Y = np.hstack(평균총매출액.values[0:4])"
      ],
      "execution_count": 15,
      "outputs": []
    },
    {
      "cell_type": "code",
      "metadata": {
        "id": "rGZmwG8RPKWk",
        "outputId": "bc5e2bfe-1393-4f3f-d3c8-147046577de5",
        "colab": {
          "base_uri": "https://localhost:8080/",
          "height": 204
        }
      },
      "source": [
        "평균방문빈도"
      ],
      "execution_count": 16,
      "outputs": [
        {
          "output_type": "execute_result",
          "data": {
            "text/html": [
              "<div>\n",
              "<style scoped>\n",
              "    .dataframe tbody tr th:only-of-type {\n",
              "        vertical-align: middle;\n",
              "    }\n",
              "\n",
              "    .dataframe tbody tr th {\n",
              "        vertical-align: top;\n",
              "    }\n",
              "\n",
              "    .dataframe thead th {\n",
              "        text-align: right;\n",
              "    }\n",
              "</style>\n",
              "<table border=\"1\" class=\"dataframe\">\n",
              "  <thead>\n",
              "    <tr style=\"text-align: right;\">\n",
              "      <th>거주지역</th>\n",
              "      <th>1</th>\n",
              "      <th>2</th>\n",
              "      <th>3</th>\n",
              "      <th>4</th>\n",
              "      <th>5</th>\n",
              "      <th>6</th>\n",
              "      <th>7</th>\n",
              "    </tr>\n",
              "    <tr>\n",
              "      <th>구매유형</th>\n",
              "      <th></th>\n",
              "      <th></th>\n",
              "      <th></th>\n",
              "      <th></th>\n",
              "      <th></th>\n",
              "      <th></th>\n",
              "      <th></th>\n",
              "    </tr>\n",
              "  </thead>\n",
              "  <tbody>\n",
              "    <tr>\n",
              "      <th>1</th>\n",
              "      <td>nan</td>\n",
              "      <td>8.000</td>\n",
              "      <td>8.667</td>\n",
              "      <td>10.818</td>\n",
              "      <td>10.222</td>\n",
              "      <td>9.667</td>\n",
              "      <td>10.000</td>\n",
              "    </tr>\n",
              "    <tr>\n",
              "      <th>2</th>\n",
              "      <td>nan</td>\n",
              "      <td>nan</td>\n",
              "      <td>29.143</td>\n",
              "      <td>42.312</td>\n",
              "      <td>39.022</td>\n",
              "      <td>48.212</td>\n",
              "      <td>58.845</td>\n",
              "    </tr>\n",
              "    <tr>\n",
              "      <th>3</th>\n",
              "      <td>7.750</td>\n",
              "      <td>5.000</td>\n",
              "      <td>7.929</td>\n",
              "      <td>11.903</td>\n",
              "      <td>15.350</td>\n",
              "      <td>20.438</td>\n",
              "      <td>40.765</td>\n",
              "    </tr>\n",
              "    <tr>\n",
              "      <th>4</th>\n",
              "      <td>nan</td>\n",
              "      <td>12.778</td>\n",
              "      <td>12.485</td>\n",
              "      <td>17.277</td>\n",
              "      <td>18.000</td>\n",
              "      <td>18.768</td>\n",
              "      <td>19.966</td>\n",
              "    </tr>\n",
              "  </tbody>\n",
              "</table>\n",
              "</div>"
            ],
            "text/plain": [
              "거주지역     1      2      3      4      5      6      7\n",
              "구매유형                                                \n",
              "1      nan  8.000  8.667 10.818 10.222  9.667 10.000\n",
              "2      nan    nan 29.143 42.312 39.022 48.212 58.845\n",
              "3    7.750  5.000  7.929 11.903 15.350 20.438 40.765\n",
              "4      nan 12.778 12.485 17.277 18.000 18.768 19.966"
            ]
          },
          "metadata": {
            "tags": []
          },
          "execution_count": 16
        }
      ]
    },
    {
      "cell_type": "code",
      "metadata": {
        "id": "CUUjfngKPT68",
        "outputId": "5160aa5b-0db4-4a8e-b757-7f490fa0bde8",
        "colab": {
          "base_uri": "https://localhost:8080/",
          "height": 119
        }
      },
      "source": [
        "X"
      ],
      "execution_count": 17,
      "outputs": [
        {
          "output_type": "execute_result",
          "data": {
            "text/plain": [
              "array([        nan,  8.        ,  8.66666667, 10.81818182, 10.22222222,\n",
              "        9.66666667, 10.        ,         nan,         nan, 29.14285714,\n",
              "       42.3125    , 39.02247191, 48.21186441, 58.84507042,  7.75      ,\n",
              "        5.        ,  7.92857143, 11.90322581, 15.35      , 20.4375    ,\n",
              "       40.76470588,         nan, 12.77777778, 12.48484848, 17.27678571,\n",
              "       18.        , 18.768     , 19.96551724])"
            ]
          },
          "metadata": {
            "tags": []
          },
          "execution_count": 17
        }
      ]
    },
    {
      "cell_type": "code",
      "metadata": {
        "id": "7ADv1TOfPY-c"
      },
      "source": [
        "# 한글깨짐현상 방지\n",
        "# matplotlib.rcParams['font.family'] = 'Malgun Gothic'"
      ],
      "execution_count": 18,
      "outputs": []
    },
    {
      "cell_type": "code",
      "metadata": {
        "id": "sOO5NryxP8yE",
        "outputId": "7136abe0-5e4c-4fee-bb56-f130ed1ef23b",
        "colab": {
          "base_uri": "https://localhost:8080/",
          "height": 456
        }
      },
      "source": [
        "# 평균점 산점도 그리기\n",
        "labels = []\n",
        "for i in range(1,5,1):\n",
        "  for j in range(1,8,1):\n",
        "    labels.append(str(i)+str(j))\n",
        "\n",
        "for label, x_count, y_count in zip(labels,X,Y):\n",
        "  plt.annotate(label,\n",
        "               xycoords='data',\n",
        "               textcoords='offset points',\n",
        "               xy=(x_count,y_count),\n",
        "               xytext=(5,-5))\n",
        "  \n",
        "plt.title('평균점 산점도') # 차트제목\n",
        "plt.xlabel('평균 방문빈도') # X축 이름\n",
        "plt.ylabel('평균 총매출액') # Y축 이름\n",
        "plt.plot(X,Y,'o')\n",
        "plt.show()"
      ],
      "execution_count": 19,
      "outputs": [
        {
          "output_type": "display_data",
          "data": {
            "image/png": "[encoded data removed]",
            "text/plain": [
              "<Figure size 720x504 with 1 Axes>"
            ]
          },
          "metadata": {
            "tags": [],
            "needs_background": "light"
          }
        }
      ]
    },
    {
      "cell_type": "markdown",
      "metadata": {
        "id": "AItSgzE7ciXK"
      },
      "source": [
        "- 결과 해석\n",
        "  + 다변량분산분석: 거주지역, 구매유형에 따라 총 매출액과 방문빈도 차이는 모두유의\n",
        "  + 구매유형 3,2인 고객들이 상대적으로 1,4인 고객보다 평균 방문빈도가 높음\n",
        "  + 거주지역 4,5,6,7인 고객들이 나머지 지역보다 상대적으로 평균 총매출액이 높음\n",
        "  + 구매,거주(37, 27)인 고객들은 타 영역에 비해 상당히 큰 차이  \n",
        "      -> 해당 그룹 고객들에 대해 각 세그먼트에 적합한 마케팅 전략 추진"
      ]
    },
    {
      "cell_type": "markdown",
      "metadata": {
        "id": "kcL_65UKxEzN"
      },
      "source": [
        "## 10.5. 공분산분석 (ANCOVA: Analysis of Covariance)\n",
        "### (1) 개념 및 주요 이론\n",
        "- 공변량을 통제함으로써 순수한 독립변수의 효과만을 보는 것이 원칙\n",
        "- 종속변수에 영향을 줄 수 있는 연속형 외생변수의 효과 제거\n",
        "- 순수하게 집단 간 종속변수의 평균 차이 분석 \n",
        "- 잔차 부분이 없다면 회귀분석 모형\n",
        "- __분산분석의 변형으로서의 공분산분석__\n",
        "  + 단순히 범주형 변수만을 고려하는 분산분석 과정에서 생겨날 수 있는 문제점에 대한 보완책\n",
        "  + 명목척도로 측정된 독립변수와 등간/비율 척도로 측정된 독립변수가 함께 존재할 경우 사용되는 분석방법\n",
        "  + 등간/비율 척도인 공변량(Covariate)과 종속변수간 관계 파악하여  \n",
        "  공변량이 종속변수에 미치는 효과 제거 후 수정된 종속변수의 평균값을 이용해  \n",
        "  분산분석 실시하는 분석방법\n",
        "- __회귀분석에서 범주형 변수를 통제하는 분석__\n",
        "  + 연속형 종속변수와 연속형 독립변수간의 회귀분석 과정에서 범주형 변수의 효과가 개입되는 경우\n",
        "  + 단순히 두 연속형 변수간의 회귀분석모형만을 고려하는 경우에 생겨날 수 있는 문제점에 대한 보완책\n",
        "  + 범주형 변수의 각 수준에 따라 서로 다른 회귀직선이 적합되는 것이 바람직한지 판단하고  \n",
        "  각 범주의 수준에 따른 회귀분석 절차를 수행 가능\n",
        "  + 자세한 내용은 11장에서\n",
        "- __공분산분석의 종류__\n",
        "  + 공변량 외 독립변수 1개: 일원공분산분석\n",
        "  + 공변량 외 독립변수 2개 이상: 다원 공분산분석\n",
        "  + 종속변수가 2개 이상: 다변량 공분산분석"
      ]
    },
    {
      "cell_type": "markdown",
      "metadata": {
        "id": "oYj7jipE2ZZ6"
      },
      "source": [
        "### (2) 분석 및 해석\n",
        "- 문제\n",
        "  + 앞서 거주지역별 총 매출액의 차이가 있는지 일원분산분석을 통해 검증하였다.  \n",
        "  그러나 총매출액에는 거주지역뿐만 아니라, 고객들의 방문빈도 역시 유의미한 변수일 수 있다.  \n",
        "  공분산분석을 통해 방문빈도를 통제한 상태에서 거주지역별 총 매출액 차이를 검정해보자.\n",
        "\n",
        "- 가설 \n",
        "  + H0(귀무가설) = 방문빈도를 통제한 상황에서 거주지역에 따른 총 매출액은 차이가 없다.\n",
        "  + H1(연구가설) = 방문빈도를 통제한 상황에서 거주지역에 따른 총 매출액은 차이가 있다."
      ]
    },
    {
      "cell_type": "code",
      "metadata": {
        "id": "osS4tGy81LdE",
        "outputId": "a8391e27-b1b2-4023-9b7c-bfb407d4c743",
        "colab": {
          "base_uri": "https://localhost:8080/",
          "height": 204
        }
      },
      "source": [
        "# 1. 모듈 및 데이터 탑재\n",
        "import pandas as pd\n",
        "import pingouin as pg\n",
        "\n",
        "df = pd.read_csv('Ashopping.csv',sep=',',encoding='CP949')\n",
        "df1 = df[['총_매출액','방문빈도','거주지역']]\n",
        "pd.options.display.float_format = '{:.3f}'.format\n",
        "\n",
        "df1.head()"
      ],
      "execution_count": 24,
      "outputs": [
        {
          "output_type": "execute_result",
          "data": {
            "text/html": [
              "<div>\n",
              "<style scoped>\n",
              "    .dataframe tbody tr th:only-of-type {\n",
              "        vertical-align: middle;\n",
              "    }\n",
              "\n",
              "    .dataframe tbody tr th {\n",
              "        vertical-align: top;\n",
              "    }\n",
              "\n",
              "    .dataframe thead th {\n",
              "        text-align: right;\n",
              "    }\n",
              "</style>\n",
              "<table border=\"1\" class=\"dataframe\">\n",
              "  <thead>\n",
              "    <tr style=\"text-align: right;\">\n",
              "      <th></th>\n",
              "      <th>총_매출액</th>\n",
              "      <th>방문빈도</th>\n",
              "      <th>거주지역</th>\n",
              "    </tr>\n",
              "  </thead>\n",
              "  <tbody>\n",
              "    <tr>\n",
              "      <th>0</th>\n",
              "      <td>4007080</td>\n",
              "      <td>17</td>\n",
              "      <td>6</td>\n",
              "    </tr>\n",
              "    <tr>\n",
              "      <th>1</th>\n",
              "      <td>3168400</td>\n",
              "      <td>14</td>\n",
              "      <td>4</td>\n",
              "    </tr>\n",
              "    <tr>\n",
              "      <th>2</th>\n",
              "      <td>2680780</td>\n",
              "      <td>18</td>\n",
              "      <td>6</td>\n",
              "    </tr>\n",
              "    <tr>\n",
              "      <th>3</th>\n",
              "      <td>5946600</td>\n",
              "      <td>17</td>\n",
              "      <td>5</td>\n",
              "    </tr>\n",
              "    <tr>\n",
              "      <th>4</th>\n",
              "      <td>13745950</td>\n",
              "      <td>73</td>\n",
              "      <td>6</td>\n",
              "    </tr>\n",
              "  </tbody>\n",
              "</table>\n",
              "</div>"
            ],
            "text/plain": [
              "      총_매출액  방문빈도  거주지역\n",
              "0   4007080    17     6\n",
              "1   3168400    14     4\n",
              "2   2680780    18     6\n",
              "3   5946600    17     5\n",
              "4  13745950    73     6"
            ]
          },
          "metadata": {
            "tags": []
          },
          "execution_count": 24
        }
      ]
    },
    {
      "cell_type": "code",
      "metadata": {
        "id": "iaLwxNgL3KOy",
        "outputId": "776515a9-fe4c-4942-f4ca-5a13a4855a12",
        "colab": {
          "base_uri": "https://localhost:8080/",
          "height": 170
        }
      },
      "source": [
        "# 2. 공분산분석 (공변량 통제 O)\n",
        "print('공분산분석 결과\\n',pg.ancova(dv='총_매출액',between='거주지역',covar='방문빈도',data=df1))\n",
        "\n",
        "# 3. 일원분산분석 (공변량 통제 X)\n",
        "print('\\n일원분산분석 결과\\n',pg.anova(dv='총_매출액',between='거주지역',data=df1))"
      ],
      "execution_count": 25,
      "outputs": [
        {
          "output_type": "stream",
          "text": [
            "공분산분석 결과\n",
            "      Source                    SS   DF       F  p-unc   np2\n",
            "0      거주지역   696696841274948.000    6   4.046  0.001 0.024\n",
            "1      방문빈도 13701443685723464.000    1 477.393  0.000 0.325\n",
            "2  Residual 28470960329516344.000  992     nan    nan   nan\n",
            "\n",
            "일원분산분석 결과\n",
            "   Source  ddof1  ddof2      F  p-unc   np2\n",
            "0   거주지역      6    993 24.759  0.000 0.130\n"
          ],
          "name": "stdout"
        }
      ]
    },
    {
      "cell_type": "markdown",
      "metadata": {
        "id": "DcZL2UNH6N4P"
      },
      "source": [
        "- 결과 해석\n",
        "  + 위의 두 분산분석 모두 유의\n",
        "  + 공변량 통제한 분산분석 F값은 4.046\n",
        "  + 공변량 통제않은 분산분석 F값은 24.759  \n",
        "    -> 방문빈도 역시 매출액에도 일정한 영향을 주고 있다.  \n",
        "    -> 거주지역에 따른 매출액 차이 고려 시 방문빈도 통제하지 않으면 거주지역별 차이가  과대평가 될 수 있다."
      ]
    }
  ]
}