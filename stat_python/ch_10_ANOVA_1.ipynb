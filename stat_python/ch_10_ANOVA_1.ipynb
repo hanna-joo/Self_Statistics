{
  "nbformat": 4,
  "nbformat_minor": 0,
  "metadata": {
    "colab": {
      "name": "ch_10_ANOVA_1.ipynb",
      "provenance": [],
      "collapsed_sections": [],
      "authorship_tag": "ABX9TyOre8Zq6MDPhTB7LVApw+T2",
      "include_colab_link": true
    },
    "kernelspec": {
      "name": "python3",
      "display_name": "Python 3"
    }
  },
  "cells": [
    {
      "cell_type": "markdown",
      "metadata": {
        "id": "view-in-github",
        "colab_type": "text"
      },
      "source": [
        "<a href=\"https://colab.research.google.com/github/hanna-joo/statistics/blob/master/stat_python/ch_10_ANOVA_1.ipynb\" target=\"_parent\"><img src=\"https://colab.research.google.com/assets/colab-badge.svg\" alt=\"Open In Colab\"/></a>"
      ]
    },
    {
      "cell_type": "markdown",
      "metadata": {
        "id": "YWrtGtaxDJSK"
      },
      "source": [
        "# 10장. 분산분석 (ANOVA: Analysis of Variance)\n",
        "part 01\n",
        "  - 10.1. 분산분석 기초\n",
        "  - 10.2. 일원분산분석\n",
        "  - 10.3. 이원분산분석\n",
        "  ___\n",
        "part 02\n",
        "  - 10.4. 다변량분산분석\n",
        "  - 10.5. 공분산분석"
      ]
    },
    {
      "cell_type": "markdown",
      "metadata": {
        "id": "dioCoopsxTxL"
      },
      "source": [
        "## 10.0. 준비하기"
      ]
    },
    {
      "cell_type": "code",
      "metadata": {
        "id": "NbouCpNmJ0l_",
        "outputId": "af9c50d8-a957-4868-eaa9-261ea08b2ba5",
        "colab": {
          "base_uri": "https://localhost:8080/",
          "height": 53
        }
      },
      "source": [
        "# 구글 드라이브 연동\n",
        "from google.colab import drive # import drive from google colab\n",
        "\n",
        "ROOT = \"/content/drive\"     # default location for the drive\n",
        "print(ROOT)       \n",
        "          # print content of ROOT (Optional)\n",
        "drive.mount(ROOT, force_remount=True)"
      ],
      "execution_count": null,
      "outputs": [
        {
          "output_type": "stream",
          "text": [
            "/content/drive\n",
            "Mounted at /content/drive\n"
          ],
          "name": "stdout"
        }
      ]
    },
    {
      "cell_type": "code",
      "metadata": {
        "id": "Uvgc12WdJx1x",
        "outputId": "c04718fc-e11e-474c-d234-bfe62d1b5f72",
        "colab": {
          "base_uri": "https://localhost:8080/",
          "height": 449
        }
      },
      "source": [
        "from os.path import join  \n",
        "\n",
        "MY_GOOGLE_DRIVE_PATH = '/content/drive/My Drive/Colab Notebooks/python_stat/python_stat_data/pythondata'\n",
        "PROJECT_PATH = join(ROOT, MY_GOOGLE_DRIVE_PATH)\n",
        "\n",
        "%cd \"{PROJECT_PATH}\"\n",
        "%ls"
      ],
      "execution_count": null,
      "outputs": [
        {
          "output_type": "stream",
          "text": [
            "/content/drive/My Drive/Colab Notebooks/python_stat/python_stat_data/pythondata\n",
            "'실습파일_10장 분산분석.ipynb'\n",
            "'실습파일_11장 회귀분석.ipynb'\n",
            "'실습파일_12장 요인분석.ipynb'\n",
            "'실습파일_13장 분류예측분석.ipynb'\n",
            "'실습파일_14장 군집분석.ipynb'\n",
            "'실습파일_15장 포지셔닝 분석.ipynb'\n",
            "'실습파일_16장 컨조인트 분석.ipynb'\n",
            "'실습파일_17장 비모수 통계분석.ipynb'\n",
            "'실습파일_3장 파이썬 기초.ipynb'\n",
            "'실습파일_4장 데이터전처리 및 기초분석.ipynb'\n",
            "'실습파일_5장 기술통계분석.ipynb'\n",
            "'실습파일_6장 t 검정.ipynb'\n",
            "'실습파일_7장 상관관계분석.ipynb'\n",
            "'실습파일_8장 범주형 데이터 분석.ipynb'\n",
            "'실습파일_9장 신뢰성 분석.ipynb'\n",
            " Ashopping.csv\n",
            " CCA.csv\n",
            " Conjoint.csv\n",
            " Correspondence.csv\n",
            " 부록_통계표.docx\n",
            " MDS1.csv\n",
            " MDS3.csv\n",
            "'Step by Step 파이썬 비즈니스 통계분석_정오표.xlsx'\n"
          ],
          "name": "stdout"
        }
      ]
    },
    {
      "cell_type": "code",
      "metadata": {
        "id": "BvLNhlc_aaiA"
      },
      "source": [
        "# 분산분석 패키지 설치\n",
        "!pip install scikit_posthocs # 다양한 사후분석 기능 제공\n",
        "!pip install pingouin"
      ],
      "execution_count": null,
      "outputs": []
    },
    {
      "cell_type": "code",
      "metadata": {
        "id": "V9WrG5e4aZ2x",
        "outputId": "604f4a07-30a7-4ca5-d242-61fbc5b148a0",
        "colab": {
          "base_uri": "https://localhost:8080/",
          "height": 73
        }
      },
      "source": [
        "# 모듈 및 데이터 탑재\n",
        "import pandas as pd\n",
        "import numpy as np\n",
        "import scipy as sp\n",
        "import pingouin as pg\n",
        "import scikit_posthocs"
      ],
      "execution_count": null,
      "outputs": [
        {
          "output_type": "stream",
          "text": [
            "/usr/local/lib/python3.6/dist-packages/statsmodels/tools/_testing.py:19: FutureWarning: pandas.util.testing is deprecated. Use the functions in the public API at pandas.testing instead.\n",
            "  import pandas.util.testing as tm\n"
          ],
          "name": "stderr"
        }
      ]
    },
    {
      "cell_type": "code",
      "metadata": {
        "id": "FxuQJeClbL_J"
      },
      "source": [
        "df = pd.read_csv('Ashopping.csv', sep=',', encoding='CP949')"
      ],
      "execution_count": null,
      "outputs": []
    },
    {
      "cell_type": "markdown",
      "metadata": {
        "id": "Q4wAgfcmDiTM"
      },
      "source": [
        "## 10.1. 분산분석 기초\n",
        "- 독립변수: 명목척도\n",
        "- 종속변수: 등간/비율척도\n",
        "- 3개 이상 집단간 평균의 차이로 독립변수와 종속변수 사이의 관계를 검정\n",
        "\n",
        "### (1) 분산분석의 종류\n",
        "|    |분산분석 종류|독립변수|종속변수|예시|\n",
        "|:----|:------|:---|:---|:---|\n",
        "|단일변량|**일원분산분석**|1개|1개|고객등급별 매장 방문횟수의 비교|\n",
        "|단일변량|**이원분산분석**|2개|1개|성별, 나이대별 통신요금의 차이 비교|\n",
        "|다변량|**다변량분산분석**|2개|2개이상|성별, 가격에 따른 판촉 전 판매량과 판촉 후 판매량 차이 비교|\n",
        "\n",
        "> * **공분산분석**\n",
        "  - 연속형 외생변수가 종속변수에 미치는 영향 제거 > 순수한 집단간 종속변수의 평균 차이 비교  \n",
        "  - 예시: 고객등급별 매장 방문횟수의 비교 시 고객 나이를 \n",
        "통제한 상황에서 분석\n",
        "\n",
        "> * **사후분석**\n",
        "  - 분산분석 후 구체적으로 어떤 집단이 어떤 집단과 유의한 차이를 보이는지 비교할 수 있는 방법\n",
        "  - 방법:\n",
        "    + **Fisher 의 최소유의차**: 등분산 가정하는 방법 / 주로 귀무가설 기각되는 경우에 사용하며 각 집단의 표본 크기가 다른 경우에도 적용 가능\n",
        "    + **Tukey 의 정직유의차**: 위 방법보다 엄격한 방법 /  일반적으로 검정력이 떨어지기 때문에 보통 유의수준을 0.05가 아닌 0.1 이상의 큰 값으로 분석 / 집단간 차이를 가장 정밀하게 감지할 수 있지만 집단별 표본 크기가 같은 경우에만 의미가 있음\n",
        "    + **Scheffe 방법**: 일반적이고 융통성 있는 방법 / 집단별 표본 크기가 다른 경우에도 가능 / 필요이상으로 넓은 신뢰구간 제시하는 단점\n",
        "    + **Duncan 방법**: Fisher의 최소유의차와 마찬가지로 등분산 가정 / 1종 오류를 범할 가능성이 높다는 단점\n",
        "\n",
        "\n",
        "\n",
        "\n"
      ]
    },
    {
      "cell_type": "markdown",
      "metadata": {
        "id": "PCPUoOf_HSMZ"
      },
      "source": [
        "## 10.2. 일원분산분석 (One-way ANOVA)\n",
        "### (1) 개념 및 주요 이론\n",
        "- 분산분석에서 가설검정을 위해 사용되는 검정통계량은 F값\n",
        "  + F값\n",
        "    + 집단내 분산 대비 집단간 분산이 몇 배 더 큰지\n",
        "    + (F 임계치) < (F값): 집단 간의 차이가 충분히 크다\n",
        "  + 집단내 분산(Sum of Square Between Groups) \n",
        "    + 각 집단의 평균치를 중심으로 각 집단내의 자료들이 우연적인 오차에 의해 어떻게 흩어져 있는가를 요약하는 척도\n",
        "  + 집단간 분산(Sum of Square Within Groups)\n",
        "    + 각 집단의 평균들이 전체 평균으로부터 흩어진 정도를 나타내는 척도\n",
        "  + 총 분산(Sum of Square Total)\n",
        "    + 각 자료들이 전체 평균으로부터 흩어진 정도를 나타내는 척도"
      ]
    },
    {
      "cell_type": "markdown",
      "metadata": {
        "id": "YqPC4t6gI5JS"
      },
      "source": [
        "### (2) 분석 및 해석\n",
        "- 문제\n",
        "  + A 쇼핑 고객들의 구매유형별 총 매출액의 차이가 있는지를 일원분산분석을 통해 검정해 보자.  \n",
        "A 쇼핑에서 관리하는 고객들의 구매유형과 고객 수는 다음과 같다.\n",
        "\n",
        "|코드|구매유형|고객 수(명)|\n",
        "|:----:|:------:|:---:|\n",
        "|1|1회성 구매형|43|\n",
        "|2|실용적 구매형|317|\n",
        "|3|명품 구매형|144|\n",
        "|4|집중 구매형|496|\n",
        "\n",
        "- 가설 \n",
        "  + H0(귀무가설) = A 쇼핑 고객의 구매유형에 따른 총 매출액의 차이는 없다.\n",
        "  + H1(연구가설) = A 쇼핑 고객은 적어도 1개의 구매유형이 다른 구매유형과 총 매출액 차이가 존재한다."
      ]
    },
    {
      "cell_type": "code",
      "metadata": {
        "id": "jNiZsX28DETc"
      },
      "source": [
        "# 0. 모듈 및 데이터 탑재\n",
        "import pandas as pd\n",
        "import numpy as np\n",
        "import scipy as sp\n",
        "import pingouin as pg\n",
        "import scikit_posthocs\n",
        "\n",
        "df = pd.read_csv('Ashopping.csv', sep=',', encoding='CP949')"
      ],
      "execution_count": null,
      "outputs": []
    },
    {
      "cell_type": "code",
      "metadata": {
        "id": "o1fEUoGHKHT_",
        "outputId": "dfa40207-525d-4bca-8833-2804d0d03e93",
        "colab": {
          "base_uri": "https://localhost:8080/",
          "height": 479
        }
      },
      "source": [
        "df.head()"
      ],
      "execution_count": null,
      "outputs": [
        {
          "output_type": "execute_result",
          "data": {
            "text/html": [
              "<div>\n",
              "<style scoped>\n",
              "    .dataframe tbody tr th:only-of-type {\n",
              "        vertical-align: middle;\n",
              "    }\n",
              "\n",
              "    .dataframe tbody tr th {\n",
              "        vertical-align: top;\n",
              "    }\n",
              "\n",
              "    .dataframe thead th {\n",
              "        text-align: right;\n",
              "    }\n",
              "</style>\n",
              "<table border=\"1\" class=\"dataframe\">\n",
              "  <thead>\n",
              "    <tr style=\"text-align: right;\">\n",
              "      <th></th>\n",
              "      <th>고객ID</th>\n",
              "      <th>이탈여부</th>\n",
              "      <th>총_매출액</th>\n",
              "      <th>방문빈도</th>\n",
              "      <th>1회_평균매출액</th>\n",
              "      <th>할인권_사용 횟수</th>\n",
              "      <th>총_할인_금액</th>\n",
              "      <th>고객등급</th>\n",
              "      <th>구매유형</th>\n",
              "      <th>클레임접수여부</th>\n",
              "      <th>구매_카테고리_수</th>\n",
              "      <th>거주지역</th>\n",
              "      <th>성별</th>\n",
              "      <th>고객_나이대</th>\n",
              "      <th>거래기간</th>\n",
              "      <th>할인민감여부</th>\n",
              "      <th>멤버쉽_프로그램_가입전_만족도</th>\n",
              "      <th>멤버쉽_프로그램_가입후_만족도</th>\n",
              "      <th>Recency</th>\n",
              "      <th>Frequency</th>\n",
              "      <th>Monetary</th>\n",
              "      <th>상품_만족도</th>\n",
              "      <th>매장_만족도</th>\n",
              "      <th>서비스_만족도</th>\n",
              "      <th>상품_품질</th>\n",
              "      <th>상품_다양성</th>\n",
              "      <th>가격_적절성</th>\n",
              "      <th>상품_진열_위치</th>\n",
              "      <th>상품_설명_표시</th>\n",
              "      <th>매장_청결성</th>\n",
              "      <th>공간_편의성</th>\n",
              "      <th>시야_확보성</th>\n",
              "      <th>음향_적절성</th>\n",
              "      <th>안내_표지판_설명</th>\n",
              "      <th>친절성</th>\n",
              "      <th>신속성</th>\n",
              "      <th>책임성</th>\n",
              "      <th>정확성</th>\n",
              "      <th>전문성</th>\n",
              "    </tr>\n",
              "  </thead>\n",
              "  <tbody>\n",
              "    <tr>\n",
              "      <th>0</th>\n",
              "      <td>1</td>\n",
              "      <td>0</td>\n",
              "      <td>4007080</td>\n",
              "      <td>17</td>\n",
              "      <td>235711</td>\n",
              "      <td>1</td>\n",
              "      <td>5445</td>\n",
              "      <td>1</td>\n",
              "      <td>4</td>\n",
              "      <td>0</td>\n",
              "      <td>6</td>\n",
              "      <td>6</td>\n",
              "      <td>1</td>\n",
              "      <td>4</td>\n",
              "      <td>1079</td>\n",
              "      <td>0</td>\n",
              "      <td>5</td>\n",
              "      <td>7</td>\n",
              "      <td>7</td>\n",
              "      <td>3</td>\n",
              "      <td>4</td>\n",
              "      <td>6</td>\n",
              "      <td>5</td>\n",
              "      <td>6</td>\n",
              "      <td>7</td>\n",
              "      <td>7</td>\n",
              "      <td>6</td>\n",
              "      <td>7.0</td>\n",
              "      <td>6.0</td>\n",
              "      <td>6</td>\n",
              "      <td>7</td>\n",
              "      <td>6</td>\n",
              "      <td>6</td>\n",
              "      <td>6</td>\n",
              "      <td>6</td>\n",
              "      <td>6</td>\n",
              "      <td>6</td>\n",
              "      <td>6</td>\n",
              "      <td>6</td>\n",
              "    </tr>\n",
              "    <tr>\n",
              "      <th>1</th>\n",
              "      <td>2</td>\n",
              "      <td>1</td>\n",
              "      <td>3168400</td>\n",
              "      <td>14</td>\n",
              "      <td>226314</td>\n",
              "      <td>22</td>\n",
              "      <td>350995</td>\n",
              "      <td>2</td>\n",
              "      <td>4</td>\n",
              "      <td>0</td>\n",
              "      <td>4</td>\n",
              "      <td>4</td>\n",
              "      <td>1</td>\n",
              "      <td>1</td>\n",
              "      <td>537</td>\n",
              "      <td>0</td>\n",
              "      <td>2</td>\n",
              "      <td>3</td>\n",
              "      <td>2</td>\n",
              "      <td>3</td>\n",
              "      <td>3</td>\n",
              "      <td>2</td>\n",
              "      <td>5</td>\n",
              "      <td>4</td>\n",
              "      <td>6</td>\n",
              "      <td>7</td>\n",
              "      <td>6</td>\n",
              "      <td>6.0</td>\n",
              "      <td>NaN</td>\n",
              "      <td>7</td>\n",
              "      <td>7</td>\n",
              "      <td>6</td>\n",
              "      <td>6</td>\n",
              "      <td>6</td>\n",
              "      <td>5</td>\n",
              "      <td>3</td>\n",
              "      <td>6</td>\n",
              "      <td>6</td>\n",
              "      <td>6</td>\n",
              "    </tr>\n",
              "    <tr>\n",
              "      <th>2</th>\n",
              "      <td>3</td>\n",
              "      <td>0</td>\n",
              "      <td>2680780</td>\n",
              "      <td>18</td>\n",
              "      <td>148932</td>\n",
              "      <td>6</td>\n",
              "      <td>186045</td>\n",
              "      <td>1</td>\n",
              "      <td>4</td>\n",
              "      <td>1</td>\n",
              "      <td>6</td>\n",
              "      <td>6</td>\n",
              "      <td>1</td>\n",
              "      <td>6</td>\n",
              "      <td>1080</td>\n",
              "      <td>0</td>\n",
              "      <td>6</td>\n",
              "      <td>6</td>\n",
              "      <td>7</td>\n",
              "      <td>3</td>\n",
              "      <td>2</td>\n",
              "      <td>4</td>\n",
              "      <td>6</td>\n",
              "      <td>7</td>\n",
              "      <td>6</td>\n",
              "      <td>7</td>\n",
              "      <td>6</td>\n",
              "      <td>7.0</td>\n",
              "      <td>NaN</td>\n",
              "      <td>6</td>\n",
              "      <td>6</td>\n",
              "      <td>6</td>\n",
              "      <td>6</td>\n",
              "      <td>6</td>\n",
              "      <td>7</td>\n",
              "      <td>7</td>\n",
              "      <td>6</td>\n",
              "      <td>6</td>\n",
              "      <td>7</td>\n",
              "    </tr>\n",
              "    <tr>\n",
              "      <th>3</th>\n",
              "      <td>4</td>\n",
              "      <td>0</td>\n",
              "      <td>5946600</td>\n",
              "      <td>17</td>\n",
              "      <td>349800</td>\n",
              "      <td>1</td>\n",
              "      <td>5195</td>\n",
              "      <td>1</td>\n",
              "      <td>4</td>\n",
              "      <td>1</td>\n",
              "      <td>5</td>\n",
              "      <td>5</td>\n",
              "      <td>1</td>\n",
              "      <td>6</td>\n",
              "      <td>1019</td>\n",
              "      <td>0</td>\n",
              "      <td>3</td>\n",
              "      <td>5</td>\n",
              "      <td>7</td>\n",
              "      <td>3</td>\n",
              "      <td>5</td>\n",
              "      <td>3</td>\n",
              "      <td>5</td>\n",
              "      <td>5</td>\n",
              "      <td>6</td>\n",
              "      <td>6</td>\n",
              "      <td>6</td>\n",
              "      <td>5.0</td>\n",
              "      <td>6.0</td>\n",
              "      <td>6</td>\n",
              "      <td>6</td>\n",
              "      <td>5</td>\n",
              "      <td>6</td>\n",
              "      <td>6</td>\n",
              "      <td>6</td>\n",
              "      <td>6</td>\n",
              "      <td>6</td>\n",
              "      <td>5</td>\n",
              "      <td>6</td>\n",
              "    </tr>\n",
              "    <tr>\n",
              "      <th>4</th>\n",
              "      <td>5</td>\n",
              "      <td>0</td>\n",
              "      <td>13745950</td>\n",
              "      <td>73</td>\n",
              "      <td>188301</td>\n",
              "      <td>9</td>\n",
              "      <td>246350</td>\n",
              "      <td>1</td>\n",
              "      <td>2</td>\n",
              "      <td>0</td>\n",
              "      <td>6</td>\n",
              "      <td>6</td>\n",
              "      <td>0</td>\n",
              "      <td>6</td>\n",
              "      <td>1086</td>\n",
              "      <td>0</td>\n",
              "      <td>5</td>\n",
              "      <td>6</td>\n",
              "      <td>7</td>\n",
              "      <td>6</td>\n",
              "      <td>7</td>\n",
              "      <td>5</td>\n",
              "      <td>6</td>\n",
              "      <td>6</td>\n",
              "      <td>5</td>\n",
              "      <td>6</td>\n",
              "      <td>6</td>\n",
              "      <td>5.0</td>\n",
              "      <td>6.0</td>\n",
              "      <td>5</td>\n",
              "      <td>6</td>\n",
              "      <td>6</td>\n",
              "      <td>6</td>\n",
              "      <td>5</td>\n",
              "      <td>5</td>\n",
              "      <td>6</td>\n",
              "      <td>6</td>\n",
              "      <td>5</td>\n",
              "      <td>6</td>\n",
              "    </tr>\n",
              "  </tbody>\n",
              "</table>\n",
              "</div>"
            ],
            "text/plain": [
              "   고객ID  이탈여부     총_매출액  방문빈도  1회_평균매출액  ...  친절성  신속성  책임성  정확성  전문성\n",
              "0     1     0   4007080    17    235711  ...    6    6    6    6    6\n",
              "1     2     1   3168400    14    226314  ...    5    3    6    6    6\n",
              "2     3     0   2680780    18    148932  ...    7    7    6    6    7\n",
              "3     4     0   5946600    17    349800  ...    6    6    6    5    6\n",
              "4     5     0  13745950    73    188301  ...    5    6    6    5    6\n",
              "\n",
              "[5 rows x 39 columns]"
            ]
          },
          "metadata": {
            "tags": []
          },
          "execution_count": 18
        }
      ]
    },
    {
      "cell_type": "code",
      "metadata": {
        "id": "cikSVRqJbb1q",
        "outputId": "d13587e5-03c1-4a6e-a3bb-2c211048eef3",
        "colab": {
          "base_uri": "https://localhost:8080/",
          "height": 204
        }
      },
      "source": [
        "df1 = df[['구매유형','총_매출액']]\n",
        "pd.options.display.float_format = '{:.3f}'.format # df 내 수치형 데이터를 소수점 셋째 자리까지 출력\n",
        "\n",
        "df1.head()"
      ],
      "execution_count": null,
      "outputs": [
        {
          "output_type": "execute_result",
          "data": {
            "text/html": [
              "<div>\n",
              "<style scoped>\n",
              "    .dataframe tbody tr th:only-of-type {\n",
              "        vertical-align: middle;\n",
              "    }\n",
              "\n",
              "    .dataframe tbody tr th {\n",
              "        vertical-align: top;\n",
              "    }\n",
              "\n",
              "    .dataframe thead th {\n",
              "        text-align: right;\n",
              "    }\n",
              "</style>\n",
              "<table border=\"1\" class=\"dataframe\">\n",
              "  <thead>\n",
              "    <tr style=\"text-align: right;\">\n",
              "      <th></th>\n",
              "      <th>구매유형</th>\n",
              "      <th>총_매출액</th>\n",
              "    </tr>\n",
              "  </thead>\n",
              "  <tbody>\n",
              "    <tr>\n",
              "      <th>0</th>\n",
              "      <td>4</td>\n",
              "      <td>4007080</td>\n",
              "    </tr>\n",
              "    <tr>\n",
              "      <th>1</th>\n",
              "      <td>4</td>\n",
              "      <td>3168400</td>\n",
              "    </tr>\n",
              "    <tr>\n",
              "      <th>2</th>\n",
              "      <td>4</td>\n",
              "      <td>2680780</td>\n",
              "    </tr>\n",
              "    <tr>\n",
              "      <th>3</th>\n",
              "      <td>4</td>\n",
              "      <td>5946600</td>\n",
              "    </tr>\n",
              "    <tr>\n",
              "      <th>4</th>\n",
              "      <td>2</td>\n",
              "      <td>13745950</td>\n",
              "    </tr>\n",
              "  </tbody>\n",
              "</table>\n",
              "</div>"
            ],
            "text/plain": [
              "   구매유형     총_매출액\n",
              "0     4   4007080\n",
              "1     4   3168400\n",
              "2     4   2680780\n",
              "3     4   5946600\n",
              "4     2  13745950"
            ]
          },
          "metadata": {
            "tags": []
          },
          "execution_count": 23
        }
      ]
    },
    {
      "cell_type": "code",
      "metadata": {
        "id": "Yt6VO84vbzQK"
      },
      "source": [
        "# 1-1. 등분산 검정: 행렬 형태로 저장\n",
        "구매유형 = []\n",
        "for i in range(1,5,1):\n",
        "  구매유형.append(df1[df1.구매유형==i].총_매출액)"
      ],
      "execution_count": null,
      "outputs": []
    },
    {
      "cell_type": "code",
      "metadata": {
        "id": "5cnF_zaSeMvC",
        "outputId": "17331c24-a923-400a-b204-b9820a05c410",
        "colab": {
          "base_uri": "https://localhost:8080/",
          "height": 35
        }
      },
      "source": [
        "type(df1[df1.구매유형==1].총_매출액)"
      ],
      "execution_count": null,
      "outputs": [
        {
          "output_type": "execute_result",
          "data": {
            "text/plain": [
              "pandas.core.series.Series"
            ]
          },
          "metadata": {
            "tags": []
          },
          "execution_count": 28
        }
      ]
    },
    {
      "cell_type": "code",
      "metadata": {
        "id": "jpzZ-WIDdwmj",
        "outputId": "60f02e58-de29-4346-fa02-3695018a83b3",
        "colab": {
          "base_uri": "https://localhost:8080/",
          "height": 71
        }
      },
      "source": [
        "# 1-2. 등분산 검정: Bartlett/flinger/levene\n",
        "  # Bartlett - 데이터가 정규분포인 경우\n",
        "  # flinger - 비모수 검정으로써 정규성을 논하기 어려울 경우\n",
        "  # levene - 데이터가 정규분포를 따르지 않을 경우 주로 사용\n",
        "print(\"1. 등분산 검정\\n\")\n",
        "sp.stats.levene(구매유형[0],구매유형[1],구매유형[2],구매유형[3])"
      ],
      "execution_count": null,
      "outputs": [
        {
          "output_type": "stream",
          "text": [
            "1. 등분산 검정\n",
            "\n"
          ],
          "name": "stdout"
        },
        {
          "output_type": "execute_result",
          "data": {
            "text/plain": [
              "LeveneResult(statistic=61.83834278363635, pvalue=1.1483869977419955e-36)"
            ]
          },
          "metadata": {
            "tags": []
          },
          "execution_count": 43
        }
      ]
    },
    {
      "cell_type": "code",
      "metadata": {
        "id": "ztQRxocKg7tk",
        "outputId": "dd59ae68-8587-481e-f58e-b2884c7c4ddf",
        "colab": {
          "base_uri": "https://localhost:8080/",
          "height": 433
        }
      },
      "source": [
        "# 2. Welch 일원분산분석 (등분산이 아닌 경우)\n",
        "print(\"2. Welch 일원분산분석 (등분산이 아닌 경우)\\n\")\n",
        "print(pg.welch_anova(dv='총_매출액',between='구매유형',data=df1))\n",
        "\n",
        "print(\"*\"*50)\n",
        "# 3. 사후분석\n",
        "  # 구매유형 데이터는 범주형 자료이기에 문자열로 변경\n",
        "print(\"3. 사후분석\\n\")\n",
        "df1['구매유형'] = df1['구매유형'].astype(str)\n",
        "print(scikit_posthocs.posthoc_scheffe(df1, val_col='총_매출액',group_col='구매유형'))\n",
        "\n",
        "print(\"*\"*50)\n",
        "# 4. 구매유형별 평균 총매출액\n",
        "print(\"4. 구매유형별 평균 총매출액\\n\")\n",
        "print(구매유형[0].mean(), 구매유형[1].mean(), 구매유형[2].mean(), 구매유형[3].mean())"
      ],
      "execution_count": null,
      "outputs": [
        {
          "output_type": "stream",
          "text": [
            "2. Welch 일원분산분석 (등분산이 아닌 경우)\n",
            "\n",
            "  Source  ddof1   ddof2      F  p-unc   np2\n",
            "0   구매유형      3 230.936 88.238  0.000 0.193\n",
            "**************************************************\n",
            "3. 사후분석\n",
            "\n",
            "      4     2     1     3\n",
            "4 1.000 0.000 0.805 0.000\n",
            "2 0.000 1.000 0.000 0.008\n",
            "1 0.805 0.000 1.000 0.000\n",
            "3 0.000 0.008 0.000 1.000\n",
            "**************************************************\n",
            "4. 구매유형별 평균 총매출액\n",
            "\n",
            "3403682.3255813955 9612645.078864353 11779839.652777778 4392794.395161291\n"
          ],
          "name": "stdout"
        },
        {
          "output_type": "stream",
          "text": [
            "/usr/local/lib/python3.6/dist-packages/ipykernel_launcher.py:9: SettingWithCopyWarning: \n",
            "A value is trying to be set on a copy of a slice from a DataFrame.\n",
            "Try using .loc[row_indexer,col_indexer] = value instead\n",
            "\n",
            "See the caveats in the documentation: https://pandas.pydata.org/pandas-docs/stable/user_guide/indexing.html#returning-a-view-versus-a-copy\n",
            "  if __name__ == '__main__':\n"
          ],
          "name": "stderr"
        }
      ]
    },
    {
      "cell_type": "markdown",
      "metadata": {
        "id": "WpVjZTXXmgFS"
      },
      "source": [
        "- 결과 해석\n",
        "1. 등분산 검정 결과\n",
        "  + F값: 61.83\n",
        "  + 유의확률: 0.01 미만 > 등분산이 아니다(연구가설)\n",
        "2. 유의확률 0.01 이하로 귀무가설 기각\n",
        "3. 구매유형 1번과 4번을 제외한 나머지 구매유형 그룹간에 유의한 차이 존재\n",
        "4. 명품 구매형 > 실용적 구매형 > 집중 구매형 > 1회성 구매형\n",
        "\n",
        "  => 연구가설: A 쇼핑 고객은 적어도 1개의 구매유형이 다른 구매유형과 총 매출액 차이가 존재한다. (1번과 4번 제외)\n"
      ]
    },
    {
      "cell_type": "markdown",
      "metadata": {
        "id": "6Xngz2tCk6Ui"
      },
      "source": [
        "## 10.3. 이원분산분석 (Two-way ANOVA)\n",
        "### (1) 개념 및 주요 이론\n",
        "- 독립변수 2개, 종속변수 1개\n",
        "- 독립변수들 간의 상호작용 효과 추가로 판단\n",
        "          상호작용\n",
        "          - 종속변수에 대한 독립변수들의 결합효과 \n",
        "          - 종속변수에 대한 한 독립변수의 효과가 다른 독립변수의 각 수준에서 동일하지 않다\n",
        "  + 만약 상호작용 존재하지 않을 경우 2개의 독립변수에 대한 각각의 일원분산분석 수행하는 것과 동일\n"
      ]
    },
    {
      "cell_type": "markdown",
      "metadata": {
        "id": "nBzgH-ysqu2r"
      },
      "source": [
        "### (2) 분석 및 해석\n",
        "- 문제\n",
        "  + 구매유형과 거주지역에 따라 고객들의 총 매출액이 다른지 검정해보자.  \n",
        "  이원분산분석의 가설은 제1 독립변수의 효과, 제2 독립변수의 효과,  \n",
        "  그리고 상호작용 효과에 대해 논하는 가설로 분리하여 설정하는 것이 바람직하다.\n",
        "\n",
        "|코드|구매유형|고객 수(명)|\n",
        "|:----:|:------:|:---:|\n",
        "|1|1회성 구매형|43|\n",
        "|2|실용적 구매형|317|\n",
        "|3|명품 구매형|144|\n",
        "|4|집중 구매형|496|\n",
        "\n",
        "- 가설\n",
        "  - **제1 독립변수**의 효과: 구매유형에 따른 가설 \n",
        "    + H0(귀무가설) = 구매유형에 따른 총 매출액의 차이는 없다.\n",
        "    + H1(연구가설) = 적어도 한개의 구매유형이 다른 구매유형과 총 매출액 차이가 존재한다.\n",
        "  - **제2 독립변수**의 효과: 거주지역에 따른 가설\n",
        "    + H0(귀무가설) = 거주지역에 따른 총 매출액의 차이는 없다.\n",
        "    + H1(연구가설) = 적어도 1개의 거주지역이 다른 거주지역과 총 매출액 차이가 존재한다.\n",
        "  - **상호작용** 효과: 독립변수간 상호작용에 따른 가설\n",
        "    + H0(귀무가설) = 구매유형과 거주지역의 상호작용 효과는 없다.\n",
        "    + H1(연구가설) = 구매유형과 거주지역의 상호작용 효과가 있다."
      ]
    },
    {
      "cell_type": "code",
      "metadata": {
        "id": "DHHcB2ursWSb"
      },
      "source": [
        "# 0. 모듈 및 데이터 탑재\n",
        "import pandas as pd\n",
        "import numpy as np\n",
        "import scipy as sp\n",
        "import pingouin as pg\n",
        "import scikit_posthocs\n",
        "\n",
        "df = pd.read_csv('Ashopping.csv', sep=',', encoding='CP949')\n",
        "df1 = df[['총_매출액','구매유형','거주지역']]\n",
        "pd.options.display.float_format = '{:.3f}'.format # df 내 수치형 데이터를 소수점 셋째 자리까지 출력"
      ],
      "execution_count": null,
      "outputs": []
    },
    {
      "cell_type": "code",
      "metadata": {
        "id": "yqPBww_puZ0T",
        "outputId": "d989d49c-2035-4c88-9166-9684998c9830",
        "colab": {
          "base_uri": "https://localhost:8080/",
          "height": 89
        }
      },
      "source": [
        "# 1. 등분산성 검정\n",
        "\n",
        "구매유형 = []\n",
        "for i in range(1,5,1):\n",
        "  구매유형.append(df1[df1.구매유형==i].총_매출액)\n",
        "\n",
        "거주지역 = []\n",
        "for i in range(1,8,1):\n",
        "  거주지역.append(df1[df1.거주지역==i].총_매출액)\n",
        "\n",
        "print(\"1. 등분산 검정\\n\")\n",
        "print(sp.stats.levene(구매유형[0],구매유형[1],구매유형[2],구매유형[3]))\n",
        "print(sp.stats.levene(거주지역[0],거주지역[1],거주지역[2],거주지역[3],거주지역[4],거주지역[5],거주지역[6]))"
      ],
      "execution_count": null,
      "outputs": [
        {
          "output_type": "stream",
          "text": [
            "1. 등분산 검정\n",
            "\n",
            "LeveneResult(statistic=61.83834278363635, pvalue=1.1483869977419955e-36)\n",
            "LeveneResult(statistic=15.505555242738524, pvalue=4.643266523366773e-17)\n"
          ],
          "name": "stdout"
        }
      ]
    },
    {
      "cell_type": "code",
      "metadata": {
        "id": "TL9CTglPzP4C",
        "outputId": "2ebb023f-65c0-4298-a763-dd5f56798940",
        "colab": {
          "base_uri": "https://localhost:8080/",
          "height": 143
        }
      },
      "source": [
        "# 2. 이원분산분석\n",
        "print(pg.anova(dv='총_매출액', between=['구매유형','거주지역'], data=df1))"
      ],
      "execution_count": null,
      "outputs": [
        {
          "output_type": "stream",
          "text": [
            "        Source                    SS      DF  ...      F  p-unc   np2\n",
            "0         구매유형  6318565682974362.000   3.000  ... 64.046  0.000 0.164\n",
            "1         거주지역 16139868513734124.000   6.000  ... 81.798  0.000 0.335\n",
            "2  구매유형 * 거주지역  3867936213048951.000  18.000  ...  6.534  0.000 0.108\n",
            "3     Residual 32096439113329668.000 976.000  ...    nan    nan   nan\n",
            "\n",
            "[4 rows x 7 columns]\n"
          ],
          "name": "stdout"
        }
      ]
    },
    {
      "cell_type": "code",
      "metadata": {
        "id": "jb-7g-PVzSsq",
        "outputId": "3e199882-43df-42f7-b125-3269efd0d2ab",
        "colab": {
          "base_uri": "https://localhost:8080/",
          "height": 487
        }
      },
      "source": [
        "# 3. 사후분석\n",
        "df1['구매유형'] = df1['구매유형'].astype(str)\n",
        "df1['거주지역'] = df1['거주지역'].astype(str)\n",
        "  # 각 집단별 표본 크기가 다르기 때문에 scheffe 방법 이용\n",
        "print(scikit_posthocs.posthoc_scheffe(df1,val_col='총_매출액',group_col='구매유형'))\n",
        "print(scikit_posthocs.posthoc_scheffe(df1,val_col='총_매출액',group_col='거주지역'))"
      ],
      "execution_count": null,
      "outputs": [
        {
          "output_type": "stream",
          "text": [
            "      4     2     1     3\n",
            "4 1.000 0.000 0.805 0.000\n",
            "2 0.000 1.000 0.000 0.008\n",
            "1 0.805 0.000 1.000 0.000\n",
            "3 0.000 0.008 0.000 1.000\n",
            "      6     4     5     7     3     2     1\n",
            "6 1.000 0.008 0.002 0.000 0.019 0.339 0.988\n",
            "4 0.008 1.000 1.000 0.000 0.978 0.980 1.000\n",
            "5 0.002 1.000 1.000 0.000 0.935 0.965 1.000\n",
            "7 0.000 0.000 0.000 1.000 0.000 0.000 0.412\n",
            "3 0.019 0.978 0.935 0.000 1.000 1.000 1.000\n",
            "2 0.339 0.980 0.965 0.000 1.000 1.000 1.000\n",
            "1 0.988 1.000 1.000 0.412 1.000 1.000 1.000\n"
          ],
          "name": "stdout"
        },
        {
          "output_type": "stream",
          "text": [
            "/usr/local/lib/python3.6/dist-packages/ipykernel_launcher.py:2: SettingWithCopyWarning: \n",
            "A value is trying to be set on a copy of a slice from a DataFrame.\n",
            "Try using .loc[row_indexer,col_indexer] = value instead\n",
            "\n",
            "See the caveats in the documentation: https://pandas.pydata.org/pandas-docs/stable/user_guide/indexing.html#returning-a-view-versus-a-copy\n",
            "  \n",
            "/usr/local/lib/python3.6/dist-packages/ipykernel_launcher.py:3: SettingWithCopyWarning: \n",
            "A value is trying to be set on a copy of a slice from a DataFrame.\n",
            "Try using .loc[row_indexer,col_indexer] = value instead\n",
            "\n",
            "See the caveats in the documentation: https://pandas.pydata.org/pandas-docs/stable/user_guide/indexing.html#returning-a-view-versus-a-copy\n",
            "  This is separate from the ipykernel package so we can avoid doing imports until\n"
          ],
          "name": "stderr"
        }
      ]
    },
    {
      "cell_type": "code",
      "metadata": {
        "id": "3VrdPiv1t39L",
        "outputId": "05e9e422-9ee3-4f90-e010-a4f77c7b9e5d",
        "colab": {
          "base_uri": "https://localhost:8080/",
          "height": 204
        }
      },
      "source": [
        "# 4. 구매유형, 거주지역별 평균 총 매출액\n",
        "pd.pivot_table(df1, index='구매유형',columns='거주지역',values='총_매출액', aggfunc=np.mean)"
      ],
      "execution_count": null,
      "outputs": [
        {
          "output_type": "execute_result",
          "data": {
            "text/html": [
              "<div>\n",
              "<style scoped>\n",
              "    .dataframe tbody tr th:only-of-type {\n",
              "        vertical-align: middle;\n",
              "    }\n",
              "\n",
              "    .dataframe tbody tr th {\n",
              "        vertical-align: top;\n",
              "    }\n",
              "\n",
              "    .dataframe thead th {\n",
              "        text-align: right;\n",
              "    }\n",
              "</style>\n",
              "<table border=\"1\" class=\"dataframe\">\n",
              "  <thead>\n",
              "    <tr style=\"text-align: right;\">\n",
              "      <th>거주지역</th>\n",
              "      <th>1</th>\n",
              "      <th>2</th>\n",
              "      <th>3</th>\n",
              "      <th>4</th>\n",
              "      <th>5</th>\n",
              "      <th>6</th>\n",
              "      <th>7</th>\n",
              "    </tr>\n",
              "    <tr>\n",
              "      <th>구매유형</th>\n",
              "      <th></th>\n",
              "      <th></th>\n",
              "      <th></th>\n",
              "      <th></th>\n",
              "      <th></th>\n",
              "      <th></th>\n",
              "      <th></th>\n",
              "    </tr>\n",
              "  </thead>\n",
              "  <tbody>\n",
              "    <tr>\n",
              "      <th>1</th>\n",
              "      <td>nan</td>\n",
              "      <td>3281350.000</td>\n",
              "      <td>3002825.000</td>\n",
              "      <td>3041428.182</td>\n",
              "      <td>3637031.667</td>\n",
              "      <td>3712146.667</td>\n",
              "      <td>3864880.000</td>\n",
              "    </tr>\n",
              "    <tr>\n",
              "      <th>2</th>\n",
              "      <td>nan</td>\n",
              "      <td>nan</td>\n",
              "      <td>4215648.571</td>\n",
              "      <td>8278686.562</td>\n",
              "      <td>6590330.674</td>\n",
              "      <td>10226770.763</td>\n",
              "      <td>13513839.437</td>\n",
              "    </tr>\n",
              "    <tr>\n",
              "      <th>3</th>\n",
              "      <td>4906400.000</td>\n",
              "      <td>3215055.000</td>\n",
              "      <td>6809777.143</td>\n",
              "      <td>7965439.677</td>\n",
              "      <td>11046081.250</td>\n",
              "      <td>13768678.750</td>\n",
              "      <td>25451441.176</td>\n",
              "    </tr>\n",
              "    <tr>\n",
              "      <th>4</th>\n",
              "      <td>nan</td>\n",
              "      <td>4034175.556</td>\n",
              "      <td>3720989.697</td>\n",
              "      <td>4229915.000</td>\n",
              "      <td>4272964.468</td>\n",
              "      <td>4749139.200</td>\n",
              "      <td>5138468.276</td>\n",
              "    </tr>\n",
              "  </tbody>\n",
              "</table>\n",
              "</div>"
            ],
            "text/plain": [
              "거주지역           1           2           3  ...            5            6            7\n",
              "구매유형                                      ...                                       \n",
              "1            nan 3281350.000 3002825.000  ...  3637031.667  3712146.667  3864880.000\n",
              "2            nan         nan 4215648.571  ...  6590330.674 10226770.763 13513839.437\n",
              "3    4906400.000 3215055.000 6809777.143  ... 11046081.250 13768678.750 25451441.176\n",
              "4            nan 4034175.556 3720989.697  ...  4272964.468  4749139.200  5138468.276\n",
              "\n",
              "[4 rows x 7 columns]"
            ]
          },
          "metadata": {
            "tags": []
          },
          "execution_count": 72
        }
      ]
    },
    {
      "cell_type": "markdown",
      "metadata": {
        "id": "8crgvfBZ1HwG"
      },
      "source": [
        "- 결과 해석\n",
        "1. 등분산 검정\n",
        "  + 두 변수 모두 귀무가설 기각(등분산이 아니다)??\n",
        "2. 세 귀무가설 모두 유의확률 0.01 이하로 기각\n",
        "3. 사후분석\n",
        "  + 구매유형: 1-4 제외 모든 유형 간 유의\n",
        "  + 거주지역: 3-6, 4-6, 5-6, 2-7, 3-7, 4-7, 5-7, 6-7 그룹간 총 매출액 차이 유의\n",
        "4. 구매유형, 거주지역별 평균 총 매출액\n",
        "\n",
        "  => 매출액은 구매유형에 따라, 거주지역에 따라 달라진다\n",
        "  \n",
        "  => 구매유형과 거주지역 간의 상호작용 효과 또한 유의하다\n",
        "  \n",
        "  => 특정 구매유형과 거주지역의 경우 다른 영역과는 다른 매출액 차이를 보일 것이다\n",
        "    \n",
        "  => 특히 거주지역(7), 구매유형(3)인 영역은 가장 큰 매출액 현황 보이고 있으므로  \n",
        "    해당 고객군을 위한 차별화 마케팅 전략 수립 필요"
      ]
    }
  ]
}